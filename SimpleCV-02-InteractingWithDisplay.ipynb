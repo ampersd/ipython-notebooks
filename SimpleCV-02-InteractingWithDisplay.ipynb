{
 "cells": [
  {
   "cell_type": "code",
   "execution_count": null,
   "metadata": {
    "collapsed": true
   },
   "outputs": [],
   "source": [
    "from SimpleCV import *\n",
    "cam = Camera()\n",
    "disp = Display()\n",
    "\n",
    "while disp.isNotDone():\n",
    "        img = cam.getImage()\n",
    "        if disp.mouseLeft:\n",
    "                break\n",
    "        img.save(disp)\n"
   ]
  },
  {
   "cell_type": "code",
   "execution_count": null,
   "metadata": {
    "collapsed": false,
    "scrolled": true
   },
   "outputs": [],
   "source": [
    "from SimpleCV import Image\n",
    "img = Image(\"logo\")\n",
    "# This will show the logo image in a web browser\n",
    "img.show(type=\"browser\")"
   ]
  },
  {
   "cell_type": "markdown",
   "metadata": {},
   "source": [
    "The major difference between the browser and the window is that the\n",
    "window can capture events, such as a signal to close the window. So far, the examples\n",
    "in this chapter have assumed that the window should remain open until the program\n",
    "completes. For larger and more complex programs, however, this might not be the case"
   ]
  },
  {
   "cell_type": "code",
   "execution_count": null,
   "metadata": {
    "collapsed": false
   },
   "outputs": [],
   "source": [
    "from SimpleCV import Display, Image\n",
    "display = Display()\n",
    "# Write to the display\n",
    "Image(\"logo\").save(display)"
   ]
  },
  {
   "cell_type": "markdown",
   "metadata": {},
   "source": [
    "In this case, the user won’t be able to close the window by clicking the close button in\n",
    "the corner of the window. The image will continue to be displayed until the program\n",
    "terminates, regardless of how the user interacts with the window. When the program\n",
    "terminates, then it will naturally clean up its windows. To control the closing of a\n",
    "window based on the user interaction with the window, you can use the Display’s\n",
    "isDone() function"
   ]
  },
  {
   "cell_type": "code",
   "execution_count": null,
   "metadata": {
    "collapsed": false
   },
   "outputs": [],
   "source": [
    "from SimpleCV import Display, Image\n",
    "import time\n",
    "display = Display()\n",
    "Image(\"logo\").save(display)\n",
    "print \"I launched a window\"\n",
    "# This while loop will keep looping until the window is closed\n",
    "while not display.isDone():\n",
    "    time.sleep(0.1)\n",
    "print \"You closed the window\""
   ]
  },
  {
   "cell_type": "markdown",
   "metadata": {},
   "source": [
    "### Draw on the screen\n",
    "\n",
    "Event handling does more than simply close windows. For example, it is relatively easy\n",
    "to write a program that draws a circle wherever the user clicks on the image. This is\n",
    "done by using the mouse position and button state information that is provided by the\n",
    "Display object.\n",
    "\n",
    "While the window is open, the following information about the mouse is available:\n",
    "* __mouseX__ and __mouseY__: the coordinates of the mouse\n",
    "* __mouseLeft__, __mouseRight__, and __mouseMiddle__: events triggered when the left, right, or middle buttons on the mouse are clicked\n",
    "* __mouseWheelUp__ and __mouseWheelDown__: events triggered then the scroll wheel on the mouse is moved."
   ]
  },
  {
   "cell_type": "code",
   "execution_count": null,
   "metadata": {
    "collapsed": false
   },
   "outputs": [],
   "source": [
    "from SimpleCV import Display, Image, Color\n",
    "winsize = (640,480)\n",
    "display = Display(winsize)\n",
    "img = Image(winsize)\n",
    "img.save(display)\n",
    "while not display.isDone():\n",
    "    if display.mouseLeft:\n",
    "        img.dl().circle((display.mouseX, display.mouseY), 4,\n",
    "                        Color.WHITE, filled=True)\n",
    "        img.save(display)\n",
    "#         img.save(\"painting.png\")"
   ]
  },
  {
   "cell_type": "markdown",
   "metadata": {},
   "source": [
    "### Macros"
   ]
  },
  {
   "cell_type": "code",
   "execution_count": null,
   "metadata": {
    "collapsed": false
   },
   "outputs": [],
   "source": [
    "from SimpleCV import *"
   ]
  },
  {
   "cell_type": "code",
   "execution_count": null,
   "metadata": {
    "collapsed": false
   },
   "outputs": [],
   "source": [
    "img = Image(\"lenna\")"
   ]
  },
  {
   "cell_type": "code",
   "execution_count": null,
   "metadata": {
    "collapsed": false
   },
   "outputs": [],
   "source": [
    "blobs = img.findBlobs()\n",
    "if blobs:\n",
    "    blobs.draw()\n",
    "img.show()"
   ]
  },
  {
   "cell_type": "code",
   "execution_count": null,
   "metadata": {
    "collapsed": false
   },
   "outputs": [],
   "source": [
    "history"
   ]
  },
  {
   "cell_type": "code",
   "execution_count": null,
   "metadata": {
    "collapsed": false
   },
   "outputs": [],
   "source": [
    "%macro showblobs 3"
   ]
  },
  {
   "cell_type": "code",
   "execution_count": null,
   "metadata": {
    "collapsed": false
   },
   "outputs": [],
   "source": [
    "showblobs"
   ]
  },
  {
   "cell_type": "code",
   "execution_count": null,
   "metadata": {
    "collapsed": false
   },
   "outputs": [],
   "source": [
    "edit showblobs"
   ]
  }
 ],
 "metadata": {
  "kernelspec": {
   "display_name": "Python 2",
   "language": "python",
   "name": "python2"
  },
  "language_info": {
   "codemirror_mode": {
    "name": "ipython",
    "version": 2
   },
   "file_extension": ".py",
   "mimetype": "text/x-python",
   "name": "python",
   "nbconvert_exporter": "python",
   "pygments_lexer": "ipython2",
   "version": "2.7.11"
  }
 },
 "nbformat": 4,
 "nbformat_minor": 0
}
