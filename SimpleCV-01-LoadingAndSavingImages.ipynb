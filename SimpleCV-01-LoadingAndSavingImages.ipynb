{
 "cells": [
  {
   "cell_type": "code",
   "execution_count": 3,
   "metadata": {
    "collapsed": false
   },
   "outputs": [
    {
     "ename": "Exception",
     "evalue": "tostring() has been removed. Please call tobytes() instead.",
     "output_type": "error",
     "traceback": [
      "\u001b[1;31m---------------------------------------------------------------------------\u001b[0m",
      "\u001b[1;31mException\u001b[0m                                 Traceback (most recent call last)",
      "\u001b[1;32m<ipython-input-3-c9ca1654f8cf>\u001b[0m in \u001b[0;36m<module>\u001b[1;34m()\u001b[0m\n\u001b[0;32m      1\u001b[0m \u001b[1;32mfrom\u001b[0m \u001b[0mSimpleCV\u001b[0m \u001b[1;32mimport\u001b[0m \u001b[0mImage\u001b[0m\u001b[1;33m\u001b[0m\u001b[0m\n\u001b[0;32m      2\u001b[0m \u001b[0mbuiltInImg\u001b[0m \u001b[1;33m=\u001b[0m \u001b[0mImage\u001b[0m\u001b[1;33m(\u001b[0m\u001b[1;34m\"logo\"\u001b[0m\u001b[1;33m)\u001b[0m\u001b[1;33m\u001b[0m\u001b[0m\n\u001b[1;32m----> 3\u001b[1;33m \u001b[0mwebImg\u001b[0m \u001b[1;33m=\u001b[0m \u001b[0mImage\u001b[0m\u001b[1;33m(\u001b[0m\u001b[1;34m\"http://fs01.androidpit.info/a/07/47/simple-tv-074744-w240.png\"\u001b[0m\u001b[1;33m)\u001b[0m\u001b[1;33m\u001b[0m\u001b[0m\n\u001b[0m\u001b[0;32m      4\u001b[0m \u001b[0mlocalImg\u001b[0m \u001b[1;33m=\u001b[0m \u001b[0mImage\u001b[0m\u001b[1;33m(\u001b[0m\u001b[1;34m\"ml.png\"\u001b[0m\u001b[1;33m)\u001b[0m\u001b[1;33m\u001b[0m\u001b[0m\n\u001b[0;32m      5\u001b[0m \u001b[0mwebImg\u001b[0m\u001b[1;33m.\u001b[0m\u001b[0mshow\u001b[0m\u001b[1;33m(\u001b[0m\u001b[1;33m)\u001b[0m\u001b[1;33m\u001b[0m\u001b[0m\n",
      "\u001b[1;32mD:\\Anaconda2\\lib\\site-packages\\SimpleCV\\ImageClass.pyc\u001b[0m in \u001b[0;36m__init__\u001b[1;34m(self, source, camera, colorSpace, verbose, sample, cv2image)\u001b[0m\n\u001b[0;32m    814\u001b[0m             \u001b[1;31m#http://opencv.willowgarage.com/documentation/python/cookbook.html\u001b[0m\u001b[1;33m\u001b[0m\u001b[1;33m\u001b[0m\u001b[0m\n\u001b[0;32m    815\u001b[0m             \u001b[0mself\u001b[0m\u001b[1;33m.\u001b[0m\u001b[0m_bitmap\u001b[0m \u001b[1;33m=\u001b[0m \u001b[0mcv\u001b[0m\u001b[1;33m.\u001b[0m\u001b[0mCreateImageHeader\u001b[0m\u001b[1;33m(\u001b[0m\u001b[0mself\u001b[0m\u001b[1;33m.\u001b[0m\u001b[0m_pil\u001b[0m\u001b[1;33m.\u001b[0m\u001b[0msize\u001b[0m\u001b[1;33m,\u001b[0m \u001b[0mcv\u001b[0m\u001b[1;33m.\u001b[0m\u001b[0mIPL_DEPTH_8U\u001b[0m\u001b[1;33m,\u001b[0m \u001b[1;36m3\u001b[0m\u001b[1;33m)\u001b[0m\u001b[1;33m\u001b[0m\u001b[0m\n\u001b[1;32m--> 816\u001b[1;33m             \u001b[0mcv\u001b[0m\u001b[1;33m.\u001b[0m\u001b[0mSetData\u001b[0m\u001b[1;33m(\u001b[0m\u001b[0mself\u001b[0m\u001b[1;33m.\u001b[0m\u001b[0m_bitmap\u001b[0m\u001b[1;33m,\u001b[0m \u001b[0mself\u001b[0m\u001b[1;33m.\u001b[0m\u001b[0m_pil\u001b[0m\u001b[1;33m.\u001b[0m\u001b[0mtostring\u001b[0m\u001b[1;33m(\u001b[0m\u001b[1;33m)\u001b[0m\u001b[1;33m)\u001b[0m\u001b[1;33m\u001b[0m\u001b[0m\n\u001b[0m\u001b[0;32m    817\u001b[0m             \u001b[0mself\u001b[0m\u001b[1;33m.\u001b[0m\u001b[0m_colorSpace\u001b[0m \u001b[1;33m=\u001b[0m \u001b[0mColorSpace\u001b[0m\u001b[1;33m.\u001b[0m\u001b[0mBGR\u001b[0m\u001b[1;33m\u001b[0m\u001b[0m\n\u001b[0;32m    818\u001b[0m             \u001b[0mcv\u001b[0m\u001b[1;33m.\u001b[0m\u001b[0mCvtColor\u001b[0m\u001b[1;33m(\u001b[0m\u001b[0mself\u001b[0m\u001b[1;33m.\u001b[0m\u001b[0m_bitmap\u001b[0m\u001b[1;33m,\u001b[0m \u001b[0mself\u001b[0m\u001b[1;33m.\u001b[0m\u001b[0m_bitmap\u001b[0m\u001b[1;33m,\u001b[0m \u001b[0mcv\u001b[0m\u001b[1;33m.\u001b[0m\u001b[0mCV_RGB2BGR\u001b[0m\u001b[1;33m)\u001b[0m\u001b[1;33m\u001b[0m\u001b[0m\n",
      "\u001b[1;32mD:\\Anaconda2\\lib\\site-packages\\PIL\\Image.pyc\u001b[0m in \u001b[0;36mtostring\u001b[1;34m(self, *args, **kw)\u001b[0m\n\u001b[0;32m    693\u001b[0m     \u001b[1;32mdef\u001b[0m \u001b[0mtostring\u001b[0m\u001b[1;33m(\u001b[0m\u001b[0mself\u001b[0m\u001b[1;33m,\u001b[0m \u001b[1;33m*\u001b[0m\u001b[0margs\u001b[0m\u001b[1;33m,\u001b[0m \u001b[1;33m**\u001b[0m\u001b[0mkw\u001b[0m\u001b[1;33m)\u001b[0m\u001b[1;33m:\u001b[0m\u001b[1;33m\u001b[0m\u001b[0m\n\u001b[0;32m    694\u001b[0m         raise Exception(\"tostring() has been removed. \" +\n\u001b[1;32m--> 695\u001b[1;33m                         \"Please call tobytes() instead.\")\n\u001b[0m\u001b[0;32m    696\u001b[0m \u001b[1;33m\u001b[0m\u001b[0m\n\u001b[0;32m    697\u001b[0m     \u001b[1;32mdef\u001b[0m \u001b[0mtobitmap\u001b[0m\u001b[1;33m(\u001b[0m\u001b[0mself\u001b[0m\u001b[1;33m,\u001b[0m \u001b[0mname\u001b[0m\u001b[1;33m=\u001b[0m\u001b[1;34m\"image\"\u001b[0m\u001b[1;33m)\u001b[0m\u001b[1;33m:\u001b[0m\u001b[1;33m\u001b[0m\u001b[0m\n",
      "\u001b[1;31mException\u001b[0m: tostring() has been removed. Please call tobytes() instead."
     ]
    }
   ],
   "source": [
    "from SimpleCV import Image\n",
    "builtInImg = Image(\"logo\")\n",
    "webImg = Image(\"http://fs01.androidpit.info/a/07/47/simple-tv-074744-w240.png\")\n",
    "localImg = Image(\"ml.png\")\n",
    "webImg.show()"
   ]
  },
  {
   "cell_type": "code",
   "execution_count": null,
   "metadata": {
    "collapsed": true
   },
   "outputs": [],
   "source": []
  },
  {
   "cell_type": "code",
   "execution_count": null,
   "metadata": {
    "collapsed": false
   },
   "outputs": [
    {
     "name": "stdout",
     "output_type": "stream",
     "text": [
      "{'hue': 0.0, 'saturation': 77.0, 'brightness': 0.0, 'height': 480.0, 'width': 640.0, 'gain': 77.0, 'contrast': 64.0, 'exposure': -4.0}\n"
     ]
    }
   ],
   "source": [
    "from SimpleCV import Camera\n",
    "# Initialize the camera\n",
    "cam = Camera()\n",
    "# Loop to continuously get images\n",
    "print cam.getAllProperties()\n",
    "while True:\n",
    "    # Get Image from camera\n",
    "    img = cam.getImage()\n",
    "    # Make image black and white\n",
    "#     img = img.binarize()\n",
    "    # Draw the text \"Hello World\" on image\n",
    "    img.drawText(\"Hello World!\")\n",
    "    # Show the image\n",
    "    img.show()"
   ]
  },
  {
   "cell_type": "code",
   "execution_count": 1,
   "metadata": {
    "collapsed": false
   },
   "outputs": [
    {
     "data": {
      "text/plain": [
       "<SimpleCV.Display Object resolution:((50, 50)), Image Resolution: (50, 50) at memory location: (0x7438bc8L)>"
      ]
     },
     "execution_count": 1,
     "metadata": {},
     "output_type": "execute_result"
    }
   ],
   "source": [
    "from SimpleCV import Image\n",
    "logo = Image(\"simplecv\")\n",
    "# logo.show()\n",
    "# save the image\n",
    "# logo.save(\"my-image.png\")\n",
    "\n",
    "img = logo\n",
    "# thumbnail = img.scale(90,90)\n",
    "# thumbnail.show()\n",
    "\n",
    "# eroded = img.erode()\n",
    "# eroded.show()\n",
    "\n",
    "cropped = img.crop(100,100,50,50)\n",
    "cropped.show()\n",
    "help img.crop"
   ]
  },
  {
   "cell_type": "code",
   "execution_count": 2,
   "metadata": {
    "collapsed": false
   },
   "outputs": [
    {
     "data": {
      "text/plain": [
       "[SimpleCV.Features.Detection.Corner at (180,433),\n",
       " SimpleCV.Features.Detection.Corner at (157,377),\n",
       " SimpleCV.Features.Detection.Corner at (176,454),\n",
       " SimpleCV.Features.Detection.Corner at (113,269),\n",
       " SimpleCV.Features.Detection.Corner at (180,435),\n",
       " SimpleCV.Features.Detection.Corner at (176,439),\n",
       " SimpleCV.Features.Detection.Corner at (110,268),\n",
       " SimpleCV.Features.Detection.Corner at (141,245),\n",
       " SimpleCV.Features.Detection.Corner at (70,415),\n",
       " SimpleCV.Features.Detection.Corner at (174,311),\n",
       " SimpleCV.Features.Detection.Corner at (178,435),\n",
       " SimpleCV.Features.Detection.Corner at (166,467),\n",
       " SimpleCV.Features.Detection.Corner at (232,235),\n",
       " SimpleCV.Features.Detection.Corner at (147,247),\n",
       " SimpleCV.Features.Detection.Corner at (164,322),\n",
       " SimpleCV.Features.Detection.Corner at (158,317),\n",
       " SimpleCV.Features.Detection.Corner at (134,242),\n",
       " SimpleCV.Features.Detection.Corner at (130,247),\n",
       " SimpleCV.Features.Detection.Corner at (107,271),\n",
       " SimpleCV.Features.Detection.Corner at (139,253),\n",
       " SimpleCV.Features.Detection.Corner at (182,441),\n",
       " SimpleCV.Features.Detection.Corner at (148,327),\n",
       " SimpleCV.Features.Detection.Corner at (273,263),\n",
       " SimpleCV.Features.Detection.Corner at (92,279),\n",
       " SimpleCV.Features.Detection.Corner at (332,263),\n",
       " SimpleCV.Features.Detection.Corner at (135,254),\n",
       " SimpleCV.Features.Detection.Corner at (170,437),\n",
       " SimpleCV.Features.Detection.Corner at (336,263),\n",
       " SimpleCV.Features.Detection.Corner at (165,481),\n",
       " SimpleCV.Features.Detection.Corner at (78,385),\n",
       " SimpleCV.Features.Detection.Corner at (160,318),\n",
       " SimpleCV.Features.Detection.Corner at (165,434),\n",
       " SimpleCV.Features.Detection.Corner at (269,254),\n",
       " SimpleCV.Features.Detection.Corner at (133,254),\n",
       " SimpleCV.Features.Detection.Corner at (180,310),\n",
       " SimpleCV.Features.Detection.Corner at (191,446),\n",
       " SimpleCV.Features.Detection.Corner at (160,461),\n",
       " SimpleCV.Features.Detection.Corner at (148,349),\n",
       " SimpleCV.Features.Detection.Corner at (286,176),\n",
       " SimpleCV.Features.Detection.Corner at (138,235),\n",
       " SimpleCV.Features.Detection.Corner at (134,240),\n",
       " SimpleCV.Features.Detection.Corner at (173,460),\n",
       " SimpleCV.Features.Detection.Corner at (120,271),\n",
       " SimpleCV.Features.Detection.Corner at (169,415),\n",
       " SimpleCV.Features.Detection.Corner at (172,434),\n",
       " SimpleCV.Features.Detection.Corner at (170,434),\n",
       " SimpleCV.Features.Detection.Corner at (286,173),\n",
       " SimpleCV.Features.Detection.Corner at (172,444),\n",
       " SimpleCV.Features.Detection.Corner at (226,231),\n",
       " SimpleCV.Features.Detection.Corner at (141,242)]"
      ]
     },
     "execution_count": 2,
     "metadata": {},
     "output_type": "execute_result"
    }
   ],
   "source": [
    "from SimpleCV import Image\n",
    "\n",
    "img = Image(\"lenna\")\n",
    "img.findCorners()"
   ]
  },
  {
   "cell_type": "code",
   "execution_count": 1,
   "metadata": {
    "collapsed": false
   },
   "outputs": [
    {
     "data": {
      "text/plain": [
       "<SimpleCV.Display Object resolution:((512, 512)), Image Resolution: (512, 512) at memory location: (0x7765348L)>"
      ]
     },
     "execution_count": 1,
     "metadata": {},
     "output_type": "execute_result"
    }
   ],
   "source": [
    "from SimpleCV import Image\n",
    "\n",
    "img = Image(\"lenna\")\n",
    "blobs = img.findBlobs()\n",
    "blobs.draw()\n",
    "# img.show()\n",
    "img.show()"
   ]
  },
  {
   "cell_type": "code",
   "execution_count": 1,
   "metadata": {
    "collapsed": true
   },
   "outputs": [],
   "source": [
    "from SimpleCV import Image\n",
    "img = Image(\"lenna\")\n",
    "img.findBlobs().show(autocolor=True)"
   ]
  },
  {
   "cell_type": "code",
   "execution_count": 3,
   "metadata": {
    "collapsed": false
   },
   "outputs": [
    {
     "data": {
      "text/plain": [
       "(0, 0, 0)"
      ]
     },
     "execution_count": 3,
     "metadata": {},
     "output_type": "execute_result"
    }
   ],
   "source": [
    "from SimpleCV import Color\n",
    "Color.BLACK"
   ]
  },
  {
   "cell_type": "code",
   "execution_count": 1,
   "metadata": {
    "collapsed": false
   },
   "outputs": [
    {
     "data": {
      "text/plain": [
       "<SimpleCV.Display Object resolution:((512, 512)), Image Resolution: (512, 512) at memory location: (0x738fe48L)>"
      ]
     },
     "execution_count": 1,
     "metadata": {},
     "output_type": "execute_result"
    }
   ],
   "source": [
    "from SimpleCV import Image, ColorCurve\n",
    "\n",
    "img = Image(\"lenna\")\n",
    "clr = ColorCurve([[0,0], [100, 120], [180, 230], [255, 255]])\n",
    "img.applyIntensityCurve(clr)\n",
    "img.show()"
   ]
  },
  {
   "cell_type": "code",
   "execution_count": 1,
   "metadata": {
    "collapsed": false
   },
   "outputs": [
    {
     "ename": "TypeError",
     "evalue": "__init__() takes exactly 5 arguments (4 given)",
     "output_type": "error",
     "traceback": [
      "\u001b[1;31m---------------------------------------------------------------------------\u001b[0m",
      "\u001b[1;31mTypeError\u001b[0m                                 Traceback (most recent call last)",
      "\u001b[1;32m<ipython-input-1-3799baafa5c1>\u001b[0m in \u001b[0;36m<module>\u001b[1;34m()\u001b[0m\n\u001b[0;32m      4\u001b[0m \u001b[1;33m\u001b[0m\u001b[0m\n\u001b[0;32m      5\u001b[0m \u001b[0mblobs\u001b[0m \u001b[1;33m=\u001b[0m \u001b[0mimg\u001b[0m\u001b[1;33m.\u001b[0m\u001b[0mfindBlobs\u001b[0m\u001b[1;33m(\u001b[0m\u001b[1;33m)\u001b[0m\u001b[1;33m\u001b[0m\u001b[0m\n\u001b[1;32m----> 6\u001b[1;33m \u001b[0mcm\u001b[0m \u001b[1;33m=\u001b[0m \u001b[0mColorMap\u001b[0m\u001b[1;33m(\u001b[0m\u001b[0mColor\u001b[0m\u001b[1;33m.\u001b[0m\u001b[0mRED\u001b[0m\u001b[1;33m,\u001b[0m \u001b[0mmin\u001b[0m\u001b[1;33m(\u001b[0m\u001b[0mblobs\u001b[0m\u001b[1;33m.\u001b[0m\u001b[0marea\u001b[0m\u001b[1;33m(\u001b[0m\u001b[1;33m)\u001b[0m\u001b[1;33m)\u001b[0m \u001b[1;33m,\u001b[0m \u001b[0mmax\u001b[0m\u001b[1;33m(\u001b[0m\u001b[0mblobs\u001b[0m\u001b[1;33m.\u001b[0m\u001b[0marea\u001b[0m\u001b[1;33m(\u001b[0m\u001b[1;33m)\u001b[0m\u001b[1;33m)\u001b[0m\u001b[1;33m)\u001b[0m \u001b[1;31m# color, startmap, endmap\u001b[0m\u001b[1;33m\u001b[0m\u001b[0m\n\u001b[0m\u001b[0;32m      7\u001b[0m \u001b[1;32mfor\u001b[0m \u001b[0mb\u001b[0m \u001b[1;32min\u001b[0m \u001b[0mblobs\u001b[0m\u001b[1;33m:\u001b[0m\u001b[1;33m\u001b[0m\u001b[0m\n\u001b[0;32m      8\u001b[0m     \u001b[0mb\u001b[0m\u001b[1;33m.\u001b[0m\u001b[0mdraw\u001b[0m\u001b[1;33m(\u001b[0m\u001b[0mcm\u001b[0m\u001b[1;33m[\u001b[0m\u001b[0mb\u001b[0m\u001b[1;33m.\u001b[0m\u001b[0marea\u001b[0m\u001b[1;33m(\u001b[0m\u001b[1;33m)\u001b[0m\u001b[1;33m]\u001b[0m\u001b[1;33m)\u001b[0m\u001b[1;33m\u001b[0m\u001b[0m\n",
      "\u001b[1;31mTypeError\u001b[0m: __init__() takes exactly 5 arguments (4 given)"
     ]
    }
   ],
   "source": [
    "## не понял как это работает, точнее - не работает\n",
    "\n",
    "from SimpleCV import Image, ColorMap, Color\n",
    "\n",
    "img = Image(\"lenna\")\n",
    "\n",
    "blobs = img.findBlobs()\n",
    "cm = ColorMap(Color.RED, min(blobs.area()) , max(blobs.area())) # color, startmap, endmap\n",
    "for b in blobs:\n",
    "    b.draw(cm[b.area()])\n",
    "blobs.show()"
   ]
  },
  {
   "cell_type": "markdown",
   "metadata": {},
   "source": [
    "### Time-Lapse Photography\n",
    "This example operates like a camera with a timer: it takes a picture once per minute.\n",
    "It is a simple application, which does nothing but save the images to disk. A more\n",
    "advanced version, though, could try to detect if there is any movement, or look for\n",
    "changes in the objects. If left running indefinitely, it could quickly consume a great deal\n",
    "of disk space, so a limit is added to only snap ten photos."
   ]
  },
  {
   "cell_type": "code",
   "execution_count": null,
   "metadata": {
    "collapsed": true
   },
   "outputs": [],
   "source": [
    "from SimpleCV import Camera, Image\n",
    "import time\n",
    "cam = Camera()\n",
    "display = Display()\n",
    "# Set the number of frames to capture\n",
    "numFrames = 10\n",
    "# Loop until we reach the limit set in numFrames\n",
    "for x in range(0, numFrames):\n",
    "    img = cam.getImage()\n",
    "    filepath = \"image-\" + str(x) + \".jpg\"\n",
    "    img.save(filepath)\n",
    "    img.save(display)\n",
    "    print \"Saved image to: \" + filepath\n",
    "    time.sleep(60)"
   ]
  },
  {
   "cell_type": "markdown",
   "metadata": {},
   "source": [
    "### A Photo Booth Application"
   ]
  },
  {
   "cell_type": "code",
   "execution_count": 1,
   "metadata": {
    "collapsed": false
   },
   "outputs": [
    {
     "ename": "error",
     "evalue": "video system not initialized",
     "output_type": "error",
     "traceback": [
      "\u001b[1;31m---------------------------------------------------------------------------\u001b[0m",
      "\u001b[1;31merror\u001b[0m                                     Traceback (most recent call last)",
      "\u001b[1;32m<ipython-input-1-afaf12b206af>\u001b[0m in \u001b[0;36m<module>\u001b[1;34m()\u001b[0m\n\u001b[0;32m     15\u001b[0m \u001b[0mtime\u001b[0m\u001b[1;33m.\u001b[0m\u001b[0msleep\u001b[0m\u001b[1;33m(\u001b[0m\u001b[1;36m5\u001b[0m\u001b[1;33m)\u001b[0m\u001b[1;33m\u001b[0m\u001b[0m\n\u001b[0;32m     16\u001b[0m \u001b[0mcounter\u001b[0m \u001b[1;33m=\u001b[0m \u001b[1;36m0\u001b[0m\u001b[1;33m\u001b[0m\u001b[0m\n\u001b[1;32m---> 17\u001b[1;33m \u001b[1;32mwhile\u001b[0m \u001b[1;32mnot\u001b[0m \u001b[0mdisplay\u001b[0m\u001b[1;33m.\u001b[0m\u001b[0misDone\u001b[0m\u001b[1;33m(\u001b[0m\u001b[1;33m)\u001b[0m\u001b[1;33m:\u001b[0m\u001b[1;33m\u001b[0m\u001b[0m\n\u001b[0m\u001b[0;32m     18\u001b[0m     \u001b[1;31m# Update the display with the latest image\u001b[0m\u001b[1;33m\u001b[0m\u001b[1;33m\u001b[0m\u001b[0m\n\u001b[0;32m     19\u001b[0m     \u001b[0mimg\u001b[0m \u001b[1;33m=\u001b[0m \u001b[0mcam\u001b[0m\u001b[1;33m.\u001b[0m\u001b[0mgetImage\u001b[0m\u001b[1;33m(\u001b[0m\u001b[1;33m)\u001b[0m\u001b[1;33m\u001b[0m\u001b[0m\n",
      "\u001b[1;32mD:\\Anaconda2\\lib\\site-packages\\SimpleCV\\Display.pyc\u001b[0m in \u001b[0;36misDone\u001b[1;34m(self)\u001b[0m\n\u001b[0;32m    648\u001b[0m \u001b[1;33m\u001b[0m\u001b[0m\n\u001b[0;32m    649\u001b[0m         \"\"\"\n\u001b[1;32m--> 650\u001b[1;33m         \u001b[0mself\u001b[0m\u001b[1;33m.\u001b[0m\u001b[0mcheckEvents\u001b[0m\u001b[1;33m(\u001b[0m\u001b[1;33m)\u001b[0m\u001b[1;33m\u001b[0m\u001b[0m\n\u001b[0m\u001b[0;32m    651\u001b[0m         \u001b[1;32mreturn\u001b[0m \u001b[0mself\u001b[0m\u001b[1;33m.\u001b[0m\u001b[0mdone\u001b[0m\u001b[1;33m\u001b[0m\u001b[0m\n\u001b[0;32m    652\u001b[0m \u001b[1;33m\u001b[0m\u001b[0m\n",
      "\u001b[1;32mD:\\Anaconda2\\lib\\site-packages\\SimpleCV\\Display.pyc\u001b[0m in \u001b[0;36mcheckEvents\u001b[1;34m(self)\u001b[0m\n\u001b[0;32m    613\u001b[0m                 \u001b[0mself\u001b[0m\u001b[1;33m.\u001b[0m\u001b[0m_setButtonState\u001b[0m\u001b[1;33m(\u001b[0m\u001b[1;36m1\u001b[0m\u001b[1;33m,\u001b[0m \u001b[0mevent\u001b[0m\u001b[1;33m.\u001b[0m\u001b[0mbutton\u001b[0m\u001b[1;33m)\u001b[0m\u001b[1;33m\u001b[0m\u001b[0m\n\u001b[0;32m    614\u001b[0m \u001b[1;33m\u001b[0m\u001b[0m\n\u001b[1;32m--> 615\u001b[1;33m         \u001b[0mpressed\u001b[0m \u001b[1;33m=\u001b[0m \u001b[0mpg\u001b[0m\u001b[1;33m.\u001b[0m\u001b[0mkey\u001b[0m\u001b[1;33m.\u001b[0m\u001b[0mget_pressed\u001b[0m\u001b[1;33m(\u001b[0m\u001b[1;33m)\u001b[0m\u001b[1;33m\u001b[0m\u001b[0m\n\u001b[0m\u001b[0;32m    616\u001b[0m \u001b[1;33m\u001b[0m\u001b[0m\n\u001b[0;32m    617\u001b[0m         \u001b[1;32mif\u001b[0m\u001b[1;33m(\u001b[0m \u001b[0mself\u001b[0m\u001b[1;33m.\u001b[0m\u001b[0mlastLeftButton\u001b[0m \u001b[1;33m==\u001b[0m \u001b[1;36m0\u001b[0m \u001b[1;32mand\u001b[0m \u001b[0mself\u001b[0m\u001b[1;33m.\u001b[0m\u001b[0mmouseLeft\u001b[0m \u001b[1;33m==\u001b[0m \u001b[1;36m1\u001b[0m \u001b[1;33m)\u001b[0m\u001b[1;33m:\u001b[0m\u001b[1;33m\u001b[0m\u001b[0m\n",
      "\u001b[1;31merror\u001b[0m: video system not initialized"
     ]
    }
   ],
   "source": [
    "from SimpleCV import Camera, Display, Color\n",
    "import time\n",
    "\n",
    "# Initialize the camera\n",
    "cam = Camera()\n",
    "# Initialize the display\n",
    "display = Display()\n",
    "# Take an initial picture\n",
    "img = cam.getImage()\n",
    "# Write a message on the image\n",
    "img.drawText(\"Left click to save a photo.\",\n",
    "color=Color().getRandom())\n",
    "# Show the image on the display\n",
    "img.save(display)\n",
    "time.sleep(5)\n",
    "counter = 0\n",
    "while not display.isDone():\n",
    "    # Update the display with the latest image\n",
    "    img = cam.getImage()\n",
    "    img.save(display)\n",
    "    if display.mouseLeft:\n",
    "        # Save image to the current directory\n",
    "        img.save(\"photobooth\" + str(counter) + \".jpg\")\n",
    "        img.drawText(\"Photo saved.\", color=Color().getRandom())\n",
    "        img.save(display)\n",
    "        time.sleep(5)\n",
    "        counter = counter + 1"
   ]
  },
  {
   "cell_type": "markdown",
   "metadata": {
    "collapsed": true
   },
   "source": [
    "Instructions are written on the image using the __drawText()__ function. Since no coordinates are passed to __drawText()__, the message will be written in the center of the\n",
    "screen. The __Color().getRandom()__ function is used to pass a random color to the color\n",
    "argument. This will result in the text being in a different color each time the message\n",
    "is displayed. Then the image is “saved” to the screen. The time.sleep() is used to\n",
    "freeze the image and keep the message on the screen for a few seconds"
   ]
  },
  {
   "cell_type": "code",
   "execution_count": null,
   "metadata": {
    "collapsed": true
   },
   "outputs": [],
   "source": []
  }
 ],
 "metadata": {
  "kernelspec": {
   "display_name": "Python 2",
   "language": "python",
   "name": "python2"
  },
  "language_info": {
   "codemirror_mode": {
    "name": "ipython",
    "version": 2
   },
   "file_extension": ".py",
   "mimetype": "text/x-python",
   "name": "python",
   "nbconvert_exporter": "python",
   "pygments_lexer": "ipython2",
   "version": "2.7.11"
  }
 },
 "nbformat": 4,
 "nbformat_minor": 0
}
