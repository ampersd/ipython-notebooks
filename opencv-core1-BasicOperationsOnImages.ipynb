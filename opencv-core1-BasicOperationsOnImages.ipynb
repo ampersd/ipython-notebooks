{
 "cells": [
  {
   "cell_type": "code",
   "execution_count": 21,
   "metadata": {
    "collapsed": false
   },
   "outputs": [
    {
     "name": "stdout",
     "output_type": "stream",
     "text": [
      "[139 137 119]\n",
      "139\n",
      "[255 255 255]\n"
     ]
    }
   ],
   "source": [
    "import cv2\n",
    "import numpy as np\n",
    "\n",
    "img = cv2.imread('messi5.jpg')\n",
    "\n",
    "# You can access a pixel value by its row and column coordinates. \n",
    "# For BGR image, it returns an array of Blue, Green, Red values. \n",
    "# For grayscale image, just corresponding intensity is returned.\n",
    "\n",
    "px = img[100,100]\n",
    "print px\n",
    "\n",
    "# accessing only blue pixel\n",
    "blue = img[100,100,0]\n",
    "print blue\n",
    "\n",
    "# You can modify the pixel values the same way.\n",
    "img[100,100] = [255,255,255]\n",
    "print img[100,100]\n",
    "\n"
   ]
  },
  {
   "cell_type": "markdown",
   "metadata": {},
   "source": [
    "### Warning\n",
    "Numpy is a optimized library for fast array calculations. \n",
    "So simply accessing each and every pixel values and modifying it \n",
    "will be very slow and it is discouraged."
   ]
  },
  {
   "cell_type": "markdown",
   "metadata": {},
   "source": [
    "### Better pixel accessing and editing methods"
   ]
  },
  {
   "cell_type": "code",
   "execution_count": 5,
   "metadata": {
    "collapsed": false
   },
   "outputs": [
    {
     "data": {
      "text/plain": [
       "100"
      ]
     },
     "execution_count": 5,
     "metadata": {},
     "output_type": "execute_result"
    }
   ],
   "source": [
    "# accessing RED value\n",
    "img.item(10,10,2)\n",
    "\n",
    "# modifying RED value\n",
    "img.itemset((10,10,2),100)\n",
    "img.item(10,10,2)"
   ]
  },
  {
   "cell_type": "markdown",
   "metadata": {},
   "source": [
    "### Accessing Image Properties"
   ]
  },
  {
   "cell_type": "code",
   "execution_count": 9,
   "metadata": {
    "collapsed": false
   },
   "outputs": [
    {
     "name": "stdout",
     "output_type": "stream",
     "text": [
      "(600L, 800L, 3L)\n",
      "1440000\n",
      "uint8\n"
     ]
    }
   ],
   "source": [
    "# tuple of number of rows, columns and channels (if image is color)\n",
    "print img.shape\n",
    "\n",
    "# total number of pixels\n",
    "print img.size\n",
    "\n",
    "# image datatype\n",
    "print img.dtype\n",
    "\n",
    "# img.dtype is very important while debugging because a large number of errors \n",
    "# in OpenCV-Python code is caused by invalid datatype"
   ]
  },
  {
   "cell_type": "markdown",
   "metadata": {},
   "source": [
    "### Image ROI"
   ]
  },
  {
   "cell_type": "code",
   "execution_count": 22,
   "metadata": {
    "collapsed": false
   },
   "outputs": [],
   "source": [
    "face = img[50:340, 400:600]\n",
    "img[50:340, 100:300] = face\n",
    "\n",
    "cv2.imshow('image', img)\n",
    "cv2.waitKey(0)\n",
    "cv2.destroyAllWindows()"
   ]
  },
  {
   "cell_type": "markdown",
   "metadata": {},
   "source": [
    "### Splitting and Merging Image Channels"
   ]
  },
  {
   "cell_type": "code",
   "execution_count": 23,
   "metadata": {
    "collapsed": false
   },
   "outputs": [
    {
     "name": "stdout",
     "output_type": "stream",
     "text": [
      "[[138 126 122 ..., 141 141 140]\n",
      " [137 125 119 ..., 143 143 142]\n",
      " [134 122 119 ..., 148 148 148]\n",
      " ..., \n",
      " [ 90  82  68 ..., 104 110 114]\n",
      " [ 92  82  66 ..., 103 110 111]\n",
      " [ 93  81  63 ..., 103 107 110]]\n"
     ]
    }
   ],
   "source": [
    "# cv2.split() is a costly operation (in terms of time), so only use it if necessary. \n",
    "# Numpy indexing is much more efficient and should be used if possible.\n",
    "\n",
    "b,g,r = cv2.split(img)\n",
    "img = cv2.merge((b,g,r))\n",
    "print b"
   ]
  },
  {
   "cell_type": "code",
   "execution_count": 19,
   "metadata": {
    "collapsed": false
   },
   "outputs": [
    {
     "name": "stdout",
     "output_type": "stream",
     "text": [
      "[[138 126 122 ..., 141 141 140]\n",
      " [137 125 119 ..., 143 143 142]\n",
      " [134 122 119 ..., 148 148 148]\n",
      " ..., \n",
      " [ 90  82  68 ..., 104 110 114]\n",
      " [ 92  82  66 ..., 103 110 111]\n",
      " [ 93  81  63 ..., 103 107 110]]\n"
     ]
    }
   ],
   "source": [
    "# or (different method)\n",
    "b = img[:,:,0]\n",
    "print b"
   ]
  },
  {
   "cell_type": "code",
   "execution_count": 20,
   "metadata": {
    "collapsed": true
   },
   "outputs": [],
   "source": [
    "# Suppose, you want to make all the red pixels to zero, \n",
    "# you need not split like this and put it equal to zero. \n",
    "# You can simply use Numpy indexing which is faster.\n",
    "\n",
    "img[:,:,2] = 0\n",
    "\n",
    "cv2.imshow('image', img)\n",
    "cv2.waitKey(0)\n",
    "cv2.destroyAllWindows()"
   ]
  },
  {
   "cell_type": "markdown",
   "metadata": {},
   "source": [
    "### Making Borders for Images (Padding)"
   ]
  },
  {
   "cell_type": "code",
   "execution_count": 24,
   "metadata": {
    "collapsed": true
   },
   "outputs": [],
   "source": [
    "import cv2\n",
    "import numpy as np\n",
    "from matplotlib import pyplot as plt\n",
    "\n",
    "BLUE = [255,0,0]\n",
    "\n",
    "img1 = cv2.imread('opencv_logo.png')\n",
    "\n",
    "replicate = cv2.copyMakeBorder(img1,10,10,10,10,cv2.BORDER_REPLICATE)\n",
    "reflect = cv2.copyMakeBorder(img1,10,10,10,10,cv2.BORDER_REFLECT)\n",
    "reflect101 = cv2.copyMakeBorder(img1,10,10,10,10,cv2.BORDER_REFLECT_101)\n",
    "wrap = cv2.copyMakeBorder(img1,10,10,10,10,cv2.BORDER_WRAP)\n",
    "constant= cv2.copyMakeBorder(img1,10,10,10,10,cv2.BORDER_CONSTANT,value=BLUE)\n",
    "\n",
    "plt.subplot(231),plt.imshow(img1,'gray'),plt.title('ORIGINAL')\n",
    "plt.subplot(232),plt.imshow(replicate,'gray'),plt.title('REPLICATE')\n",
    "plt.subplot(233),plt.imshow(reflect,'gray'),plt.title('REFLECT')\n",
    "plt.subplot(234),plt.imshow(reflect101,'gray'),plt.title('REFLECT_101')\n",
    "plt.subplot(235),plt.imshow(wrap,'gray'),plt.title('WRAP')\n",
    "plt.subplot(236),plt.imshow(constant,'gray'),plt.title('CONSTANT')\n",
    "\n",
    "plt.show()"
   ]
  },
  {
   "cell_type": "code",
   "execution_count": null,
   "metadata": {
    "collapsed": true
   },
   "outputs": [],
   "source": []
  }
 ],
 "metadata": {
  "kernelspec": {
   "display_name": "Python 2",
   "language": "python",
   "name": "python2"
  },
  "language_info": {
   "codemirror_mode": {
    "name": "ipython",
    "version": 2
   },
   "file_extension": ".py",
   "mimetype": "text/x-python",
   "name": "python",
   "nbconvert_exporter": "python",
   "pygments_lexer": "ipython2",
   "version": "2.7.11"
  }
 },
 "nbformat": 4,
 "nbformat_minor": 0
}
