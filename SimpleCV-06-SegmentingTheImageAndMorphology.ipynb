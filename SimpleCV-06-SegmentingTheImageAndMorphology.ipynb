{
 "cells": [
  {
   "cell_type": "code",
   "execution_count": 1,
   "metadata": {
    "collapsed": false
   },
   "outputs": [
    {
     "data": {
      "text/plain": [
       "<SimpleCV.Display Object resolution:((512, 512)), Image Resolution: (512, 512) at memory location: (0x730d708L)>"
      ]
     },
     "execution_count": 1,
     "metadata": {},
     "output_type": "execute_result"
    }
   ],
   "source": [
    "from SimpleCV import *\n",
    "lenna = Image(\"lenna\")\n",
    "lenna.show()"
   ]
  },
  {
   "cell_type": "code",
   "execution_count": 3,
   "metadata": {
    "collapsed": false
   },
   "outputs": [
    {
     "data": {
      "text/plain": [
       "<SimpleCV.Display Object resolution:((200, 200)), Image Resolution: (200, 200) at memory location: (0x77ed048L)>"
      ]
     },
     "execution_count": 3,
     "metadata": {},
     "output_type": "execute_result"
    }
   ],
   "source": [
    "face = lenna.crop(200,200,200,200)\n",
    "face.show()"
   ]
  },
  {
   "cell_type": "code",
   "execution_count": 2,
   "metadata": {
    "collapsed": true
   },
   "outputs": [],
   "source": [
    "segment = HaarCascade(\"face.xml\")\n",
    "autoface = lenna.findHaarFeatures(segment)\n",
    "if ( autoface is not None ):\n",
    "    face = autoface[-1].crop()\n",
    "    face.show()"
   ]
  },
  {
   "cell_type": "code",
   "execution_count": 3,
   "metadata": {
    "collapsed": false
   },
   "outputs": [
    {
     "data": {
      "text/plain": [
       "<SimpleCV.Display Object resolution:((540, 540)), Image Resolution: (540, 540) at memory location: (0x7324808L)>"
      ]
     },
     "execution_count": 3,
     "metadata": {},
     "output_type": "execute_result"
    }
   ],
   "source": [
    "bigface = face.scale(3)\n",
    "bigface.show()"
   ]
  },
  {
   "cell_type": "code",
   "execution_count": 4,
   "metadata": {
    "collapsed": false
   },
   "outputs": [
    {
     "data": {
      "text/plain": [
       "<SimpleCV.Display Object resolution:((512, 512)), Image Resolution: (512, 512) at memory location: (0x7324988L)>"
      ]
     },
     "execution_count": 4,
     "metadata": {},
     "output_type": "execute_result"
    }
   ],
   "source": [
    "rotated = lenna.rotate(90)\n",
    "rotated.show()"
   ]
  },
  {
   "cell_type": "code",
   "execution_count": 5,
   "metadata": {
    "collapsed": false
   },
   "outputs": [
    {
     "data": {
      "text/plain": [
       "<SimpleCV.Display Object resolution:((512, 512)), Image Resolution: (512, 512) at memory location: (0x73f1d48L)>"
      ]
     },
     "execution_count": 5,
     "metadata": {},
     "output_type": "execute_result"
    }
   ],
   "source": [
    "# warp (transformation) or shear (sdvig) \n",
    "warped = lenna.warp(((100,10),(300,10), (450,300), (10,300)))\n",
    "warped.show()"
   ]
  },
  {
   "cell_type": "code",
   "execution_count": 6,
   "metadata": {
    "collapsed": false
   },
   "outputs": [
    {
     "data": {
      "text/plain": [
       "<SimpleCV.Display Object resolution:((512, 512)), Image Resolution: (512, 512) at memory location: (0x7324ec8L)>"
      ]
     },
     "execution_count": 6,
     "metadata": {},
     "output_type": "execute_result"
    }
   ],
   "source": [
    "inverted = lenna.invert()\n",
    "inverted.show()"
   ]
  },
  {
   "cell_type": "code",
   "execution_count": 7,
   "metadata": {
    "collapsed": false
   },
   "outputs": [
    {
     "data": {
      "text/plain": [
       "<SimpleCV.Display Object resolution:((512, 512)), Image Resolution: (512, 512) at memory location: (0x73f39c8L)>"
      ]
     },
     "execution_count": 7,
     "metadata": {},
     "output_type": "execute_result"
    }
   ],
   "source": [
    "grey = lenna.greyscale()\n",
    "grey.show()"
   ]
  },
  {
   "cell_type": "code",
   "execution_count": 8,
   "metadata": {
    "collapsed": false
   },
   "outputs": [
    {
     "name": "stdout",
     "output_type": "stream",
     "text": [
      "[[[162 162 162]\n",
      "  [162 162 162]\n",
      "  [162 162 162]\n",
      "  ..., \n",
      "  [ 43  43  43]\n",
      "  [ 44  44  44]\n",
      "  [ 44  44  44]]\n",
      "\n",
      " [[162 162 162]\n",
      "  [162 162 162]\n",
      "  [162 162 162]\n",
      "  ..., \n",
      "  [ 43  43  43]\n",
      "  [ 44  44  44]\n",
      "  [ 44  44  44]]\n",
      "\n",
      " [[162 162 162]\n",
      "  [162 162 162]\n",
      "  [162 162 162]\n",
      "  ..., \n",
      "  [ 50  50  50]\n",
      "  [ 55  55  55]\n",
      "  [ 55  55  55]]\n",
      "\n",
      " ..., \n",
      " [[170 170 170]\n",
      "  [170 170 170]\n",
      "  [170 170 170]\n",
      "  ..., \n",
      "  [104 104 104]\n",
      "  [104 104 104]\n",
      "  [104 104 104]]\n",
      "\n",
      " [[155 155 155]\n",
      "  [155 155 155]\n",
      "  [155 155 155]\n",
      "  ..., \n",
      "  [100 100 100]\n",
      "  [105 105 105]\n",
      "  [105 105 105]]\n",
      "\n",
      " [[128 128 128]\n",
      "  [128 128 128]\n",
      "  [128 128 128]\n",
      "  ..., \n",
      "  [ 98  98  98]\n",
      "  [108 108 108]\n",
      "  [108 108 108]]]\n"
     ]
    }
   ],
   "source": [
    "matrix = grey.getNumpy()\n",
    "print matrix"
   ]
  },
  {
   "cell_type": "code",
   "execution_count": 10,
   "metadata": {
    "collapsed": false
   },
   "outputs": [
    {
     "name": "stdout",
     "output_type": "stream",
     "text": [
      "[162 162 162]\n"
     ]
    }
   ],
   "source": [
    "# pixels value of coordinates X Y = (0,0)\n",
    "print matrix[0][0]"
   ]
  },
  {
   "cell_type": "code",
   "execution_count": 11,
   "metadata": {
    "collapsed": false
   },
   "outputs": [
    {
     "name": "stdout",
     "output_type": "stream",
     "text": [
      "[[[  0   0   0]\n",
      "  [  0   0   0]\n",
      "  [  0   0   0]\n",
      "  ..., \n",
      "  [255 255 255]\n",
      "  [255 255 255]\n",
      "  [255 255 255]]\n",
      "\n",
      " [[  0   0   0]\n",
      "  [  0   0   0]\n",
      "  [  0   0   0]\n",
      "  ..., \n",
      "  [255 255 255]\n",
      "  [255 255 255]\n",
      "  [255 255 255]]\n",
      "\n",
      " [[  0   0   0]\n",
      "  [  0   0   0]\n",
      "  [  0   0   0]\n",
      "  ..., \n",
      "  [255 255 255]\n",
      "  [255 255 255]\n",
      "  [255 255 255]]\n",
      "\n",
      " ..., \n",
      " [[  0   0   0]\n",
      "  [  0   0   0]\n",
      "  [  0   0   0]\n",
      "  ..., \n",
      "  [255 255 255]\n",
      "  [255 255 255]\n",
      "  [255 255 255]]\n",
      "\n",
      " [[  0   0   0]\n",
      "  [  0   0   0]\n",
      "  [  0   0   0]\n",
      "  ..., \n",
      "  [255 255 255]\n",
      "  [255 255 255]\n",
      "  [255 255 255]]\n",
      "\n",
      " [[  0   0   0]\n",
      "  [  0   0   0]\n",
      "  [  0   0   0]\n",
      "  ..., \n",
      "  [255 255 255]\n",
      "  [255 255 255]\n",
      "  [255 255 255]]]\n"
     ]
    }
   ],
   "source": [
    "binarize = lenna.binarize()\n",
    "binarize_matrix = binarize.getNumpy()\n",
    "print binarize_matrix"
   ]
  },
  {
   "cell_type": "code",
   "execution_count": 20,
   "metadata": {
    "collapsed": false
   },
   "outputs": [
    {
     "data": {
      "text/plain": [
       "<SimpleCV.Display Object resolution:((512, 512)), Image Resolution: (512, 512) at memory location: (0x77c3088L)>"
      ]
     },
     "execution_count": 20,
     "metadata": {},
     "output_type": "execute_result"
    }
   ],
   "source": [
    "bin = lenna.binarize() #dynamic\n",
    "bin.show()"
   ]
  },
  {
   "cell_type": "code",
   "execution_count": 21,
   "metadata": {
    "collapsed": false
   },
   "outputs": [
    {
     "data": {
      "text/plain": [
       "<SimpleCV.Display Object resolution:((512, 512)), Image Resolution: (512, 512) at memory location: (0x77c3788L)>"
      ]
     },
     "execution_count": 21,
     "metadata": {},
     "output_type": "execute_result"
    }
   ],
   "source": [
    "bin = lenna.binarize(127) #fixed\n",
    "bin.show()"
   ]
  },
  {
   "cell_type": "code",
   "execution_count": 22,
   "metadata": {
    "collapsed": false
   },
   "outputs": [
    {
     "data": {
      "text/plain": [
       "<SimpleCV.Display Object resolution:((512, 512)), Image Resolution: (512, 512) at memory location: (0x77c3e08L)>"
      ]
     },
     "execution_count": 22,
     "metadata": {},
     "output_type": "execute_result"
    }
   ],
   "source": [
    "# Another useful function is dilate. This would be used to basically make things grow.\n",
    "dilated = lenna.dilate(10)\n",
    "dilated.show()"
   ]
  },
  {
   "cell_type": "code",
   "execution_count": 23,
   "metadata": {
    "collapsed": false
   },
   "outputs": [
    {
     "data": {
      "text/plain": [
       "<SimpleCV.Display Object resolution:((512, 512)), Image Resolution: (512, 512) at memory location: (0x77c3e88L)>"
      ]
     },
     "execution_count": 23,
     "metadata": {},
     "output_type": "execute_result"
    }
   ],
   "source": [
    "# Erode is basically the opposite of dilate. You can think of it just like soil erosion on the ocean, \n",
    "# that it basically wears away at the image\n",
    "eroded = lenna.erode(10)\n",
    "eroded.show()"
   ]
  },
  {
   "cell_type": "code",
   "execution_count": 24,
   "metadata": {
    "collapsed": false
   },
   "outputs": [
    {
     "data": {
      "text/plain": [
       "<SimpleCV.Display Object resolution:((512, 512)), Image Resolution: (512, 512) at memory location: (0x77c3ec8L)>"
      ]
     },
     "execution_count": 24,
     "metadata": {},
     "output_type": "execute_result"
    }
   ],
   "source": [
    "# There is also morphOpen, which operates similiar to dilate, except it takes surrounding pixels into account. As you can this \n",
    "# is much more subtle and seems to be more of blending effect.\n",
    "\n",
    "open = lenna.morphOpen()\n",
    "open.show()"
   ]
  },
  {
   "cell_type": "code",
   "execution_count": 25,
   "metadata": {
    "collapsed": false
   },
   "outputs": [
    {
     "data": {
      "text/plain": [
       "<SimpleCV.Display Object resolution:((512, 512)), Image Resolution: (512, 512) at memory location: (0x77bef88L)>"
      ]
     },
     "execution_count": 25,
     "metadata": {},
     "output_type": "execute_result"
    }
   ],
   "source": [
    "closed = lenna.morphClose()\n",
    "closed.show()"
   ]
  }
 ],
 "metadata": {
  "kernelspec": {
   "display_name": "Python 2",
   "language": "python",
   "name": "python2"
  },
  "language_info": {
   "codemirror_mode": {
    "name": "ipython",
    "version": 2
   },
   "file_extension": ".py",
   "mimetype": "text/x-python",
   "name": "python",
   "nbconvert_exporter": "python",
   "pygments_lexer": "ipython2",
   "version": "2.7.11"
  }
 },
 "nbformat": 4,
 "nbformat_minor": 0
}
