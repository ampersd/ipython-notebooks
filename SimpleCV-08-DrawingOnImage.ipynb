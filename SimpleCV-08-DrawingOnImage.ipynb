{
 "cells": [
  {
   "cell_type": "markdown",
   "metadata": {},
   "source": [
    "In simplecv there is a single “display” object. In turn these means you can only have a single window open viewing the camera at any single time. Even though SimpleCV supports multiple cameras, you can only view one at at time using the standard method, although there are more advanced ways to do it as well through a web browser, they will not be discussed here."
   ]
  },
  {
   "cell_type": "code",
   "execution_count": 12,
   "metadata": {
    "collapsed": false
   },
   "outputs": [
    {
     "data": {
      "text/plain": [
       "<SimpleCV.Display Object resolution:((512, 512)), Image Resolution: (512, 512) at memory location: (0x73de608L)>"
      ]
     },
     "execution_count": 12,
     "metadata": {},
     "output_type": "execute_result"
    }
   ],
   "source": [
    "from SimpleCV import Image\n",
    "import time\n",
    "scv = Image('lenna')\n",
    "logo = Image('logo')\n",
    "# DrawingLayer using\n",
    "scv.dl().blit(logo) #write image 2 on top of image\n",
    "scv.show()"
   ]
  },
  {
   "cell_type": "code",
   "execution_count": 10,
   "metadata": {
    "collapsed": false
   },
   "outputs": [
    {
     "name": "stdout",
     "output_type": "stream",
     "text": [
      "(512, 512)\n",
      "[]\n",
      "[<SimpleCV.DrawingLayer Object size (512, 512)>]\n"
     ]
    }
   ],
   "source": [
    "from SimpleCV import Image, DrawingLayer\n",
    "scv = Image('lenna')\n",
    "size = scv.size()\n",
    "print size\n",
    "\n",
    "print scv._mLayers #this is where all the layers are stored\n",
    "layer1 = DrawingLayer(size)\n",
    "scv.addDrawingLayer(layer1)\n",
    "print scv._mLayers"
   ]
  },
  {
   "cell_type": "code",
   "execution_count": 3,
   "metadata": {
    "collapsed": false
   },
   "outputs": [
    {
     "name": "stdout",
     "output_type": "stream",
     "text": [
      "1\n",
      "<SimpleCV.DrawingLayer Object size (250, 250)>\n"
     ]
    },
    {
     "data": {
      "text/plain": [
       "<SimpleCV.Display Object resolution:((512, 512)), Image Resolution: (512, 512) at memory location: (0x74ac548L)>"
      ]
     },
     "execution_count": 3,
     "metadata": {},
     "output_type": "execute_result"
    }
   ],
   "source": [
    "# In this example we are loading up the logo and then loading up it’s drawing layer. \n",
    "# Please note that the dl() function is just a shortcut to the getDrawingLayer() function.\n",
    "from SimpleCV import Image, DrawingLayer\n",
    "import time\n",
    "\n",
    "logo = Image('logo')\n",
    "dl = logo.dl()\n",
    "# dl = logo.getDrawingLayer() #same as above\n",
    "print len(logo._mLayers)\n",
    "\n",
    "dl = logo.dl(0)\n",
    "print dl\n",
    "time.sleep(2)\n",
    "\n",
    "scv = Image('lenna')\n",
    "logo = Image('logo')\n",
    "sdl = scv.dl()\n",
    "ldl = logo.dl()\n",
    "scv.addDrawingLayer(ldl)\n",
    "scv.show()"
   ]
  },
  {
   "cell_type": "code",
   "execution_count": null,
   "metadata": {
    "collapsed": true
   },
   "outputs": [],
   "source": [
    "from SimpleCV import Image, DrawingLayer\n",
    "import time\n",
    "\n",
    "scv = Image('lenna')\n",
    "logo = Image('simplecv')\n",
    "sdl = scv.dl()\n",
    "ldl = logo.dl()\n",
    "scv.addDrawingLayer(ldl)\n",
    "scv.show()\n",
    "\n",
    "# Что-то нифига не работает!"
   ]
  },
  {
   "cell_type": "markdown",
   "metadata": {},
   "source": [
    "### drawing"
   ]
  },
  {
   "cell_type": "code",
   "execution_count": 15,
   "metadata": {
    "collapsed": false
   },
   "outputs": [
    {
     "data": {
      "text/plain": [
       "<SimpleCV.Display Object resolution:((512, 512)), Image Resolution: (512, 512) at memory location: (0x77f2288L)>"
      ]
     },
     "execution_count": 15,
     "metadata": {},
     "output_type": "execute_result"
    }
   ],
   "source": [
    "#  For example, you want to draw a box around a face that was detected in the image.\n",
    "from SimpleCV import Image, DrawingLayer, Color\n",
    "\n",
    "lenna = Image('lenna')\n",
    "facelayer = DrawingLayer((lenna.width, lenna.height))\n",
    "facebox_dim = (200,200)\n",
    "center_point = (lenna.width / 2, lenna.height / 2)\n",
    "facebox = facelayer.centeredRectangle(center_point, facebox_dim)\n",
    "lenna.addDrawingLayer(facelayer)\n",
    "lenna.applyLayers()\n",
    "lenna.show()"
   ]
  },
  {
   "cell_type": "code",
   "execution_count": 12,
   "metadata": {
    "collapsed": false
   },
   "outputs": [
    {
     "data": {
      "text/plain": [
       "<SimpleCV.Display Object resolution:((512, 512)), Image Resolution: (512, 512) at memory location: (0x77f28c8L)>"
      ]
     },
     "execution_count": 12,
     "metadata": {},
     "output_type": "execute_result"
    }
   ],
   "source": [
    "circlelayer = DrawingLayer((lenna.width, lenna.height))\n",
    "circlelayer.circle(center_point, 10)\n",
    "lenna.addDrawingLayer(circlelayer)\n",
    "lenna.applyLayers()\n",
    "lenna.show()"
   ]
  },
  {
   "cell_type": "code",
   "execution_count": 13,
   "metadata": {
    "collapsed": false
   },
   "outputs": [
    {
     "data": {
      "text/plain": [
       "<SimpleCV.Display Object resolution:((250, 250)), Image Resolution: (250, 250) at memory location: (0x77e8488L)>"
      ]
     },
     "execution_count": 13,
     "metadata": {},
     "output_type": "execute_result"
    }
   ],
   "source": [
    "scv = Image('simplecv')\n",
    "scv.addDrawingLayer(circlelayer)\n",
    "scv.applyLayers()\n",
    "scv.show()"
   ]
  },
  {
   "cell_type": "code",
   "execution_count": 16,
   "metadata": {
    "collapsed": false
   },
   "outputs": [
    {
     "data": {
      "text/plain": [
       "<SimpleCV.Display Object resolution:((250, 250)), Image Resolution: (250, 250) at memory location: (0x77f2888L)>"
      ]
     },
     "execution_count": 16,
     "metadata": {},
     "output_type": "execute_result"
    }
   ],
   "source": [
    "redcircle = DrawingLayer((scv.width, scv.height))\n",
    "redcircle.circle((10,10), 10, color=Color.RED) #add circle point 10,10, radius 10.\n",
    "scv.addDrawingLayer(redcircle)\n",
    "scv.applyLayers()\n",
    "scv.show()"
   ]
  },
  {
   "cell_type": "code",
   "execution_count": 17,
   "metadata": {
    "collapsed": false
   },
   "outputs": [
    {
     "data": {
      "text/plain": [
       "<SimpleCV.Display Object resolution:((512, 512)), Image Resolution: (512, 512) at memory location: (0x77e8a08L)>"
      ]
     },
     "execution_count": 17,
     "metadata": {},
     "output_type": "execute_result"
    }
   ],
   "source": [
    "lenna.addDrawingLayer(redcircle)\n",
    "lenna.applyLayers()\n",
    "lenna.show()"
   ]
  },
  {
   "cell_type": "code",
   "execution_count": 19,
   "metadata": {
    "collapsed": false
   },
   "outputs": [
    {
     "data": {
      "text/plain": [
       "<SimpleCV.Display Object resolution:((512, 512)), Image Resolution: (512, 512) at memory location: (0x77e8f88L)>"
      ]
     },
     "execution_count": 19,
     "metadata": {},
     "output_type": "execute_result"
    }
   ],
   "source": [
    "lenna.clearLayers()\n",
    "lenna.show()"
   ]
  },
  {
   "cell_type": "markdown",
   "metadata": {},
   "source": [
    "### Marking up the Image"
   ]
  },
  {
   "cell_type": "code",
   "execution_count": 20,
   "metadata": {
    "collapsed": false
   },
   "outputs": [
    {
     "data": {
      "text/plain": [
       "<SimpleCV.Display Object resolution:((512, 512)), Image Resolution: (512, 512) at memory location: (0x77f9c48L)>"
      ]
     },
     "execution_count": 20,
     "metadata": {},
     "output_type": "execute_result"
    }
   ],
   "source": [
    "img = Image('lenna')\n",
    "corners = img.findCorners()\n",
    "corners.draw()\n",
    "img.show()"
   ]
  },
  {
   "cell_type": "code",
   "execution_count": 21,
   "metadata": {
    "collapsed": false
   },
   "outputs": [
    {
     "data": {
      "text/plain": [
       "<SimpleCV.Display Object resolution:((250, 250)), Image Resolution: (250, 250) at memory location: (0x77fc4c8L)>"
      ]
     },
     "execution_count": 21,
     "metadata": {},
     "output_type": "execute_result"
    }
   ],
   "source": [
    "img = Image('simplecv')\n",
    "img.dl().circle((10,10), 10, Color.RED)\n",
    "img.show()"
   ]
  },
  {
   "cell_type": "markdown",
   "metadata": {},
   "source": [
    "It is also possible to draw curve’s, or more commonly refered to as bezier curves. These are basically just a set of points that can make up a line. We will randomly generate a list of points then plot them."
   ]
  },
  {
   "cell_type": "code",
   "execution_count": 49,
   "metadata": {
    "collapsed": false
   },
   "outputs": [
    {
     "data": {
      "text/plain": [
       "<SimpleCV.Display Object resolution:((250, 250)), Image Resolution: (250, 250) at memory location: (0x76735c8L)>"
      ]
     },
     "execution_count": 49,
     "metadata": {},
     "output_type": "execute_result"
    }
   ],
   "source": [
    "img = Image('simplecv')\n",
    "points = [(10,10),(30,20),(50,10),(40,50),(10,40)]\n",
    "img.dl().polygon(points, filled=True, color=Color.RED)\n",
    "img.show()"
   ]
  },
  {
   "cell_type": "markdown",
   "metadata": {},
   "source": [
    "### Text and Fonts"
   ]
  },
  {
   "cell_type": "code",
   "execution_count": 50,
   "metadata": {
    "collapsed": false
   },
   "outputs": [
    {
     "data": {
      "text/plain": [
       "<SimpleCV.Display Object resolution:((512, 512)), Image Resolution: (512, 512) at memory location: (0x3f80a08L)>"
      ]
     },
     "execution_count": 50,
     "metadata": {},
     "output_type": "execute_result"
    }
   ],
   "source": [
    "img = Image('lenna')\n",
    "corners = img.findCorners()\n",
    "num_corners = len(corners)\n",
    "txt = \"Corners Found:\" + str(num_corners)\n",
    "img.drawText(txt)\n",
    "img.show()"
   ]
  },
  {
   "cell_type": "code",
   "execution_count": 51,
   "metadata": {
    "collapsed": false
   },
   "outputs": [
    {
     "data": {
      "text/plain": [
       "['chaparralprobolditopentype',\n",
       " 'tahoma',\n",
       " 'minionproboldcnitopentype',\n",
       " 'impact',\n",
       " 'kozgoproregularopentype',\n",
       " 'wingdings2',\n",
       " 'wingdings3',\n",
       " 'lucidabright',\n",
       " 'franklingothicmedium',\n",
       " 'verdana',\n",
       " 'mistral',\n",
       " 'stencilstdopentype',\n",
       " 'nirmalauisemilight',\n",
       " 'sitkasmallsitkatextsitkasubheadingsitkaheadingsitkadisplaysitkabanner',\n",
       " 'kozminproheavyopentype',\n",
       " 'segoewpsemibold',\n",
       " 'cooperblackstdopentype',\n",
       " 'tempussansitc',\n",
       " 'kozminproregularopentype',\n",
       " 'microsoftuighur',\n",
       " 'freestylescript',\n",
       " 'kozgoproheavyopentype',\n",
       " 'bookantiqua',\n",
       " 'microsoftmhei',\n",
       " 'yugothicyugothicuilight',\n",
       " 'hobostdopentype',\n",
       " 'minionproboldopentype',\n",
       " 'candara',\n",
       " 'pristina',\n",
       " 'microsoftjhengheimicrosoftjhengheiui',\n",
       " 'cordiaupc',\n",
       " 'myriadprocondopentype',\n",
       " 'myriadproregularopentype',\n",
       " 'segoeuiblack',\n",
       " 'lucidafaxregular',\n",
       " 'fzdengxianregular',\n",
       " 'chaparralprolightitopentype',\n",
       " 'lucidafax',\n",
       " 'kozgoproextralightopentype',\n",
       " 'kozgopr6nboldopentype',\n",
       " 'acaslonproboldopentype',\n",
       " 'myriadproboldconditopentype',\n",
       " 'myriadprosemiboldopentype',\n",
       " 'adobearabicbolditalicopentype',\n",
       " 'agaramondprobolditalicopentype',\n",
       " 'ocrastdopentype',\n",
       " 'microsoftyaheimicrosoftyaheiuilight',\n",
       " 'kunstlerscript',\n",
       " 'acaslonproitalicopentype',\n",
       " 'bauhaus93',\n",
       " 'yugothicregularyugothicuisemilight',\n",
       " 'corbel',\n",
       " 'segoeuisymbol',\n",
       " 'poorrichard',\n",
       " 'snapitc',\n",
       " 'arialblack',\n",
       " 'adobehebrewregularopentype',\n",
       " 'nirmalaui',\n",
       " 'msoutlook',\n",
       " 'kozminpromediumopentype',\n",
       " 'kozgoprolightopentype',\n",
       " 'blackoakstdopentype',\n",
       " 'malgungothic',\n",
       " 'trajanproregularopentype',\n",
       " 'colonna',\n",
       " 'harrington',\n",
       " 'javanesetext',\n",
       " 'tektonproboldopentype',\n",
       " 'jokerman',\n",
       " 'adobekaitistdregularopentype',\n",
       " 'bell',\n",
       " 'lettergothicstdopentype',\n",
       " 'kozgopr6nregularopentype',\n",
       " 'acaslonproregularopentype',\n",
       " 'segoeuihistoric',\n",
       " 'tektonproboldextopentype',\n",
       " 'kievitoffcpro',\n",
       " 'chaparralproitalicopentype',\n",
       " 'trajanproboldopentype',\n",
       " 'britannic',\n",
       " 'mvboli',\n",
       " 'adobegothicstdboldopentype',\n",
       " 'adobefangsongstdregularopentype',\n",
       " 'trebuchetms',\n",
       " 'microsoftsansserif',\n",
       " 'simsunnsimsun',\n",
       " 'vinerhanditc',\n",
       " 'juiceitc',\n",
       " 'georgia',\n",
       " 'niagaraengraved',\n",
       " 'webdings',\n",
       " 'adobehebrewboldopentype',\n",
       " 'couriernew',\n",
       " 'lucidacalligraphy',\n",
       " 'adobearabicboldopentype',\n",
       " 'agaramondproregularopentype',\n",
       " 'acaslonprosemiboldopentype',\n",
       " 'footlight',\n",
       " 'adobesongstdlightopentype',\n",
       " 'kozminproboldopentype',\n",
       " 'tektonproboldoblopentype',\n",
       " 'adobearabicregularopentype',\n",
       " 'vivaldi',\n",
       " 'lettergothicstdboldslantedopentype',\n",
       " 'segoemdl2assets',\n",
       " 'century',\n",
       " 'adobearabicitalicopentype',\n",
       " 'kozgopr6nlightopentype',\n",
       " 'papyrus',\n",
       " 'simsunextb',\n",
       " 'yugothic',\n",
       " 'arialms',\n",
       " 'microsoftphagspa',\n",
       " 'hightowertext',\n",
       " 'microsoftyaheimicrosoftyaheiuibold',\n",
       " 'haettenschweiler',\n",
       " 'berlinsansfbdemi',\n",
       " 'chaparralproboldopentype',\n",
       " 'acaslonprobolditalicopentype',\n",
       " 'adobegurmukhiopentype',\n",
       " 'segoewpblack',\n",
       " 'segoeuisemilight',\n",
       " 'timesnewroman',\n",
       " 'lucidahandwriting',\n",
       " 'sitkasmallsitkatextboldsitkasubheadingboldsitkaheadingboldsitkadisplayboldsitkabannerbold',\n",
       " 'oratorstdopentype',\n",
       " 'birchstdopentype',\n",
       " 'maturascriptcapitals',\n",
       " 'segoeuisemibold',\n",
       " 'vladimirscript',\n",
       " 'microsoftjhengheimicrosoftjhengheiuilight',\n",
       " 'segoemarker',\n",
       " 'mingliuextbpmingliuextbmingliuhkscsextb',\n",
       " 'lithosproregularopentype',\n",
       " 'msgothicmsuigothicmspgothic',\n",
       " 'widelatin',\n",
       " 'sketchflowprint',\n",
       " 'minionproboldcnopentype',\n",
       " 'giddyupstdopentype',\n",
       " 'leelawadeeuisemilight',\n",
       " 'adobemyungjostdmediumopentype',\n",
       " 'segoewpsemilight',\n",
       " 'myanmartext',\n",
       " 'broadway',\n",
       " 'parchment',\n",
       " 'gadugi',\n",
       " 'nuevastditalicopentype',\n",
       " 'calibri',\n",
       " 'lettergothicstdboldopentype',\n",
       " 'arial',\n",
       " 'adobenaskhmediumopentype',\n",
       " 'kozgopr6nmediumopentype',\n",
       " 'extra',\n",
       " 'segoeui',\n",
       " 'leelawadee',\n",
       " 'teamviewer11',\n",
       " 'cooperblack',\n",
       " 'malgungothicsemilight',\n",
       " 'kozgopr6nheavyopentype',\n",
       " 'berlinsansfb',\n",
       " 'consolas',\n",
       " 'adobedevanagaribolditalicopentype',\n",
       " 'frenchscript',\n",
       " 'microsoftjhengheimicrosoftjhengheiuibold',\n",
       " 'sylfaen',\n",
       " 'sitkasmallsitkatextbolditalicsitkasubheadingbolditalicsitkaheadingbolditalicsitkadisplaybolditalicsitkabannerbolditalic',\n",
       " 'algerian',\n",
       " 'yugothicyugothicuisemiboldyugothicuibold',\n",
       " 'microsoftyaheimicrosoftyaheiui',\n",
       " 'oldenglishtext',\n",
       " 'myriadproboldopentype',\n",
       " 'bradleyhanditc',\n",
       " 'minionprosemiboldopentype',\n",
       " 'lithosproblackopentype',\n",
       " 'kozgoproboldopentype',\n",
       " 'poplarstdopentype',\n",
       " 'oratorstdslantedopentype',\n",
       " 'myriadproitopentype',\n",
       " 'palatinolinotype',\n",
       " 'agaramondproitalicopentype',\n",
       " 'nuevastdconditalicopentype',\n",
       " 'gabriola',\n",
       " 'lucidaconsole',\n",
       " 'magneto',\n",
       " 'chaparralproregularopentype',\n",
       " 'microsoftneogothic',\n",
       " 'acaslonprosemibolditalicopentype',\n",
       " 'rosewoodstdregularopentype',\n",
       " 'microsoftnewtailue',\n",
       " 'segoeprint',\n",
       " 'kozminpr6nregularopentype',\n",
       " 'harlowsolid',\n",
       " 'minionprosemibolditopentype',\n",
       " 'segoewp',\n",
       " 'nuevastdcondopentype',\n",
       " 'microsofttaile',\n",
       " 'buxtonsketch',\n",
       " 'wingdings',\n",
       " 'lucidasans',\n",
       " 'garamond',\n",
       " 'kozgopromediumopentype',\n",
       " 'adobemingstdlightopentype',\n",
       " 'adobedevanagariregularopentype',\n",
       " 'constantia',\n",
       " 'centaur',\n",
       " 'nuevastdboldcondopentype',\n",
       " 'adobehebrewitalicopentype',\n",
       " 'leelawadeeui',\n",
       " 'prestigeelitestdbdopentype',\n",
       " 'adobehebrewbolditalicopentype',\n",
       " 'mathcadunimathprimeitalic',\n",
       " 'minionpromediumopentype',\n",
       " 'baskervilleoldface',\n",
       " 'kozminpr6nheavyopentype',\n",
       " 'segoescript',\n",
       " 'cambria',\n",
       " 'sitkasmallsitkatextitalicsitkasubheadingitalicsitkaheadingitalicsitkadisplayitalicsitkabanneritalic',\n",
       " 'bodonipostercompressed',\n",
       " 'monotypecorsiva',\n",
       " 'myriadprosemibolditopentype',\n",
       " 'nuevastdboldopentype',\n",
       " 'msreferencesansserif',\n",
       " 'agaramondproboldopentype',\n",
       " 'kozminprolightopentype',\n",
       " 'stencil',\n",
       " 'myriadhebrewopentype',\n",
       " 'bookmanoldstyle',\n",
       " 'ebrima',\n",
       " 'minionproregularopentype',\n",
       " 'modernno20',\n",
       " 'microsoftyibaiti',\n",
       " 'comicsansms',\n",
       " 'ravie',\n",
       " 'adobedevanagariitalicopentype',\n",
       " 'gost',\n",
       " 'msreferencespecialty',\n",
       " 'playbill',\n",
       " 'cambriacambriamath',\n",
       " 'charlemagnestdboldopentype',\n",
       " 'mesquitestdopentype',\n",
       " 'niagarasolid',\n",
       " 'cooperblackstditalicopentype',\n",
       " 'brushscriptstdopentype',\n",
       " 'kozminpr6nlightopentype',\n",
       " 'lettergothicstdslantedopentype',\n",
       " 'californianfb',\n",
       " 'kristenitc',\n",
       " 'showcardgothic',\n",
       " 'myriadproconditopentype',\n",
       " 'informalroman',\n",
       " 'mongolianbaiti',\n",
       " 'adobefanheitistdboldopentype',\n",
       " 'centurygothic',\n",
       " 'nuevastdboldconditalicopentype',\n",
       " 'myriadproboldcondopentype',\n",
       " 'minionpromediumitopentype',\n",
       " 'tektonproboldcondopentype',\n",
       " 'adobedevanagariboldopentype',\n",
       " 'microsofthimalaya',\n",
       " 'chiller',\n",
       " 'myriadarabicopentype',\n",
       " 'kozgopr6nextralightopentype',\n",
       " 'minionproitopentype',\n",
       " 'onyx',\n",
       " 'symbol',\n",
       " 'kozminpr6nmediumopentype',\n",
       " 'kozminproextralightopentype',\n",
       " 'kozminpr6nboldopentype',\n",
       " 'bookshelfsymbol7',\n",
       " 'adobeheitistdregularopentype',\n",
       " 'yugothicmediumyugothicuiregular',\n",
       " 'mathcadunimathprime',\n",
       " 'myriadprobolditopentype',\n",
       " 'minionprobolditopentype',\n",
       " 'bernardcondensed',\n",
       " 'segoeuiemoji',\n",
       " 'brushscript',\n",
       " 'kozminpr6nextralightopentype']"
      ]
     },
     "execution_count": 51,
     "metadata": {},
     "output_type": "execute_result"
    }
   ],
   "source": [
    "img = Image('simplecv')\n",
    "img.dl().listFonts()"
   ]
  },
  {
   "cell_type": "code",
   "execution_count": 53,
   "metadata": {
    "collapsed": false
   },
   "outputs": [
    {
     "data": {
      "text/plain": [
       "<SimpleCV.Display Object resolution:((512, 512)), Image Resolution: (512, 512) at memory location: (0x7624708L)>"
      ]
     },
     "execution_count": 53,
     "metadata": {},
     "output_type": "execute_result"
    }
   ],
   "source": [
    "img = Image('lenna')\n",
    "img.dl().selectFont('corbel')\n",
    "img.drawText(\"Hello!\")\n",
    "img.show()"
   ]
  },
  {
   "cell_type": "markdown",
   "metadata": {},
   "source": [
    "### Walk or don't walk"
   ]
  },
  {
   "cell_type": "code",
   "execution_count": null,
   "metadata": {
    "collapsed": true
   },
   "outputs": [],
   "source": [
    "from SimpleCV import *\n",
    "\n",
    "cam = Camera()\n",
    "img = cam.getImage()\n",
    "display = Display()\n",
    "width = img.width\n",
    "height = img.height\n",
    "screensize = width * height\n",
    "divisor = 5 # used for automatically breaking up image.\n",
    "threshold = 150 # color value to detect blob is a light\n",
    "\n",
    "def stoplayer():\n",
    "        newlayer = DrawingLayer(img.size())\n",
    "        points = [(2 * width / divisor, height / divisor),\n",
    "                                                (3 * width / divisor, height / divisor),\n",
    "                                                (4 * width / divisor, 2 * height / divisor),\n",
    "                                                (4 * width / divisor, 3 * height / divisor),\n",
    "                                                (3 * width / divisor, 4 * height / divisor),\n",
    "                                                (2 * width / divisor, 4 * height / divisor),\n",
    "                                                (1 * width / divisor, 3 * height / divisor),\n",
    "                                                (1 * width / divisor, 2 * height / divisor)\n",
    "                                        ]\n",
    "        newlayer.polygon(points, filled=True, color=Color.RED)\n",
    "        newlayer.setLayerAlpha(75)\n",
    "        newlayer.text(\"STOP\", (width / 2, height / 2), color=Color.WHITE)\n",
    "\n",
    "        return newlayer\n",
    "\n",
    "def golayer():\n",
    "        newlayer = DrawingLayer(img.size())\n",
    "        newlayer.circle((width / 2, height / 2), width / 4, filled=True, color=Color.GREEN)\n",
    "        newlayer.setLayerAlpha(75)\n",
    "        newlayer.text(\"GO\", (width / 2, height / 2), color=Color.WHITE)\n",
    "\n",
    "        return newlayer\n",
    "\n",
    "\n",
    "while display.isNotDone():\n",
    "        img = cam.getImage()\n",
    "        min_blob_size = 0.10 * screensize # the minimum blob is at least 10% of screen\n",
    "        max_blob_size = 0.80 * screensize # the maximum blob is at most 80% of screen\n",
    "        blobs = img.findBlobs(minsize=min_blob_size, maxsize=max_blob_size) # get the largest blob on the screen\n",
    "\n",
    "        layer = golayer()\n",
    "\n",
    "        #If there is a light then show the stop\n",
    "        if blobs:\n",
    "                avgcolor = np.mean(blobs[-1].meanColor()) #get the average color of the blob\n",
    "\n",
    "                if avgcolor >= threshold:\n",
    "                        layer = stoplayer()\n",
    "\n",
    "        img.addDrawingLayer(layer)\n",
    "        img.show()"
   ]
  },
  {
   "cell_type": "code",
   "execution_count": null,
   "metadata": {
    "collapsed": true
   },
   "outputs": [],
   "source": []
  }
 ],
 "metadata": {
  "kernelspec": {
   "display_name": "Python 2",
   "language": "python",
   "name": "python2"
  },
  "language_info": {
   "codemirror_mode": {
    "name": "ipython",
    "version": 2
   },
   "file_extension": ".py",
   "mimetype": "text/x-python",
   "name": "python",
   "nbconvert_exporter": "python",
   "pygments_lexer": "ipython2",
   "version": "2.7.11"
  }
 },
 "nbformat": 4,
 "nbformat_minor": 0
}
