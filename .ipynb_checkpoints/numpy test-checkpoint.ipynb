{
 "cells": [
  {
   "cell_type": "code",
   "execution_count": 1,
   "metadata": {
    "collapsed": true
   },
   "outputs": [],
   "source": [
    "import numpy as np"
   ]
  },
  {
   "cell_type": "markdown",
   "metadata": {},
   "source": [
    "## Генерация случайной матрицы"
   ]
  },
  {
   "cell_type": "markdown",
   "metadata": {},
   "source": [
    "Сгенерируйте матрицу, состоящую из 1000 строк и 50 столбцов, элементы которой являются случайными из нормального распределения N(1,10)."
   ]
  },
  {
   "cell_type": "code",
   "execution_count": 4,
   "metadata": {
    "collapsed": false
   },
   "outputs": [
    {
     "name": "stdout",
     "output_type": "stream",
     "text": [
      "[[ -4.95214132 -11.84243182  -9.27116245 ...,  -1.59428879 -15.92579186\n",
      "   -4.61364571]\n",
      " [ -7.39918278   2.65843401 -19.90623885 ...,   7.33262054  11.9910464\n",
      "   -8.70729215]\n",
      " [ 14.37909691   6.23900281  13.55970361 ...,  12.9956582  -14.82011738\n",
      "   -4.21485428]\n",
      " ..., \n",
      " [  7.19592409   5.61942935   7.49149973 ...,   5.05283356  -9.14337927\n",
      "    0.74316059]\n",
      " [  6.61865977  14.04483374  -1.06821186 ...,  -3.43462607 -13.0858908\n",
      "   -3.02206667]\n",
      " [ 18.88400678  28.86164324   3.59415901 ..., -13.31918842  16.7865867\n",
      "   -4.72087015]]\n"
     ]
    }
   ],
   "source": [
    "X = np.random.normal(loc=1, scale=10, size=(1000,50))\n",
    "print X"
   ]
  },
  {
   "cell_type": "markdown",
   "metadata": {},
   "source": [
    "## Нормировка матрицы"
   ]
  },
  {
   "cell_type": "markdown",
   "metadata": {},
   "source": [
    "Произведите нормировку матрицы из предыдущего задания: вычтите из каждого столбца его среднее значение, а затем поделите на его стандартное отклонение."
   ]
  },
  {
   "cell_type": "code",
   "execution_count": 6,
   "metadata": {
    "collapsed": false
   },
   "outputs": [
    {
     "name": "stdout",
     "output_type": "stream",
     "text": [
      "[[-0.57518318 -1.25433621 -1.00603639 ..., -0.22905812 -1.64799347\n",
      "  -0.53886797]\n",
      " [-0.82124126  0.16561021 -2.08396052 ...,  0.69428195  1.08813585\n",
      "  -0.93045591]\n",
      " [ 1.36863654  0.51622485  1.30799882 ...,  1.28002886 -1.53962631\n",
      "  -0.50072059]\n",
      " ..., \n",
      " [ 0.64634484  0.45555529  0.69295262 ...,  0.45847596 -0.98324921\n",
      "  -0.02644933]\n",
      " [ 0.58829901  1.28058346 -0.17462174 ..., -0.41941036 -1.36965477\n",
      "  -0.38662152]\n",
      " [ 1.82162008  2.73146755  0.29793547 ..., -1.44180368  1.55814675\n",
      "  -0.54912479]]\n"
     ]
    }
   ],
   "source": [
    "# параметр axis, который указывает, по какому измерению вычисляются среднее \n",
    "# и стандартное отклонение (если axis=0, то по столбцам, если axis=1, \n",
    "# то по строкам; если его не указывать, то данные величины будут вычислены \n",
    "# по всей матрице)\n",
    "m = np.mean(X, axis=0)\n",
    "std = np.std(X, axis=0)\n",
    "X_norm = ((X - m)  / std)\n",
    "print X_norm"
   ]
  },
  {
   "cell_type": "markdown",
   "metadata": {},
   "source": [
    " ## Операции над элементами матрицы"
   ]
  },
  {
   "cell_type": "markdown",
   "metadata": {},
   "source": [
    "Выведите для заданной матрицы номера строк, сумма элементов в которых превосходит 10."
   ]
  },
  {
   "cell_type": "code",
   "execution_count": 7,
   "metadata": {
    "collapsed": true
   },
   "outputs": [],
   "source": [
    "Z = np.array([[4, 5, 0], \n",
    "             [1, 9, 3],              \n",
    "             [5, 1, 1],\n",
    "             [3, 3, 3], \n",
    "             [9, 9, 9], \n",
    "             [4, 7, 1]])"
   ]
  },
  {
   "cell_type": "code",
   "execution_count": 9,
   "metadata": {
    "collapsed": false
   },
   "outputs": [
    {
     "name": "stdout",
     "output_type": "stream",
     "text": [
      "(array([1, 4, 5]),)\n"
     ]
    }
   ],
   "source": [
    "r = np.sum(Z, axis=1)\n",
    "print np.nonzero(r>10)"
   ]
  },
  {
   "cell_type": "markdown",
   "metadata": {},
   "source": [
    "## Объединение матриц"
   ]
  },
  {
   "cell_type": "markdown",
   "metadata": {},
   "source": [
    "Сгенерируйте две единичные матрицы (т.е. с единицами на диагонали) размера 3x3. Соедините две матрицы в одну размера 6x3."
   ]
  },
  {
   "cell_type": "code",
   "execution_count": 10,
   "metadata": {
    "collapsed": false
   },
   "outputs": [
    {
     "name": "stdout",
     "output_type": "stream",
     "text": [
      "[[ 1.  0.  0.]\n",
      " [ 0.  1.  0.]\n",
      " [ 0.  0.  1.]]\n",
      "[[ 1.  0.  0.]\n",
      " [ 0.  1.  0.]\n",
      " [ 0.  0.  1.]]\n"
     ]
    }
   ],
   "source": [
    "A = np.eye(3)\n",
    "B = np.eye(3)\n",
    "print A\n",
    "print B"
   ]
  },
  {
   "cell_type": "code",
   "execution_count": 12,
   "metadata": {
    "collapsed": false
   },
   "outputs": [
    {
     "name": "stdout",
     "output_type": "stream",
     "text": [
      "[[ 1.  0.  0.]\n",
      " [ 0.  1.  0.]\n",
      " [ 0.  0.  1.]\n",
      " [ 1.  0.  0.]\n",
      " [ 0.  1.  0.]\n",
      " [ 0.  0.  1.]]\n"
     ]
    }
   ],
   "source": [
    "AB = np.vstack((A,B))\n",
    "print AB"
   ]
  },
  {
   "cell_type": "code",
   "execution_count": null,
   "metadata": {
    "collapsed": true
   },
   "outputs": [],
   "source": []
  }
 ],
 "metadata": {
  "kernelspec": {
   "display_name": "Python 2",
   "language": "python",
   "name": "python2"
  },
  "language_info": {
   "codemirror_mode": {
    "name": "ipython",
    "version": 2
   },
   "file_extension": ".py",
   "mimetype": "text/x-python",
   "name": "python",
   "nbconvert_exporter": "python",
   "pygments_lexer": "ipython2",
   "version": "2.7.10"
  }
 },
 "nbformat": 4,
 "nbformat_minor": 0
}
