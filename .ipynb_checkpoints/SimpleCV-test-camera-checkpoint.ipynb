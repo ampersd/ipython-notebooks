{
 "cells": [
  {
   "cell_type": "code",
   "execution_count": null,
   "metadata": {
    "collapsed": false
   },
   "outputs": [],
   "source": [
    "from SimpleCV import VirtualCamera\n",
    "# Initialize the camera\n",
    "# cam = Camera()\n",
    "cam = VirtualCamera(\"video.mp4\", \"video\")\n",
    "# Loop to continuously get images\n",
    "while True:\n",
    "    # Get Image from camera\n",
    "    img = cam.getImage()\n",
    "    # Make image black and white\n",
    "#     img = img.binarize()\n",
    "    # Draw the text \"Hello World\" on image\n",
    "    img.drawText(\"Hello World!\")\n",
    "    # Show the image\n",
    "    img.show()"
   ]
  },
  {
   "cell_type": "code",
   "execution_count": 1,
   "metadata": {
    "collapsed": false
   },
   "outputs": [
    {
     "name": "stdout",
     "output_type": "stream",
     "text": [
      "{'hue': 0.0, 'saturation': 77.0, 'brightness': 0.0, 'height': 480.0, 'width': 640.0, 'gain': 77.0, 'contrast': 64.0, 'exposure': -4.0}\n"
     ]
    },
    {
     "ename": "KeyboardInterrupt",
     "evalue": "",
     "output_type": "error",
     "traceback": [
      "\u001b[1;31m---------------------------------------------------------------------------\u001b[0m",
      "\u001b[1;31mKeyboardInterrupt\u001b[0m                         Traceback (most recent call last)",
      "\u001b[1;32m<ipython-input-1-6084a999bc4b>\u001b[0m in \u001b[0;36m<module>\u001b[1;34m()\u001b[0m\n\u001b[0;32m      6\u001b[0m \u001b[1;32mwhile\u001b[0m \u001b[0mTrue\u001b[0m\u001b[1;33m:\u001b[0m\u001b[1;33m\u001b[0m\u001b[0m\n\u001b[0;32m      7\u001b[0m     \u001b[1;31m# Get Image from camera\u001b[0m\u001b[1;33m\u001b[0m\u001b[1;33m\u001b[0m\u001b[0m\n\u001b[1;32m----> 8\u001b[1;33m     \u001b[0mimg\u001b[0m \u001b[1;33m=\u001b[0m \u001b[0mcam\u001b[0m\u001b[1;33m.\u001b[0m\u001b[0mgetImage\u001b[0m\u001b[1;33m(\u001b[0m\u001b[1;33m)\u001b[0m\u001b[1;33m\u001b[0m\u001b[0m\n\u001b[0m\u001b[0;32m      9\u001b[0m     \u001b[1;31m# Make image black and white\u001b[0m\u001b[1;33m\u001b[0m\u001b[1;33m\u001b[0m\u001b[0m\n\u001b[0;32m     10\u001b[0m \u001b[1;31m#     img = img.binarize()\u001b[0m\u001b[1;33m\u001b[0m\u001b[1;33m\u001b[0m\u001b[0m\n",
      "\u001b[1;32mD:\\Anaconda2\\lib\\site-packages\\SimpleCV\\Camera.py\u001b[0m in \u001b[0;36mgetImage\u001b[1;34m(self)\u001b[0m\n\u001b[0;32m    599\u001b[0m         \u001b[1;32mif\u001b[0m \u001b[0mframe\u001b[0m \u001b[1;32mis\u001b[0m \u001b[1;32mnot\u001b[0m \u001b[0mNone\u001b[0m\u001b[1;33m:\u001b[0m\u001b[1;33m\u001b[0m\u001b[0m\n\u001b[0;32m    600\u001b[0m             \u001b[0msize\u001b[0m \u001b[1;33m=\u001b[0m \u001b[0mcv\u001b[0m\u001b[1;33m.\u001b[0m\u001b[0mGetSize\u001b[0m\u001b[1;33m(\u001b[0m\u001b[0mframe\u001b[0m\u001b[1;33m)\u001b[0m\u001b[1;33m\u001b[0m\u001b[0m\n\u001b[1;32m--> 601\u001b[1;33m         \u001b[0mnewimg\u001b[0m \u001b[1;33m=\u001b[0m \u001b[0mcv\u001b[0m\u001b[1;33m.\u001b[0m\u001b[0mCreateImage\u001b[0m\u001b[1;33m(\u001b[0m\u001b[0msize\u001b[0m\u001b[1;33m,\u001b[0m \u001b[0mcv\u001b[0m\u001b[1;33m.\u001b[0m\u001b[0mIPL_DEPTH_8U\u001b[0m\u001b[1;33m,\u001b[0m \u001b[1;36m3\u001b[0m\u001b[1;33m)\u001b[0m\u001b[1;33m\u001b[0m\u001b[0m\n\u001b[0m\u001b[0;32m    602\u001b[0m         \u001b[0mcv\u001b[0m\u001b[1;33m.\u001b[0m\u001b[0mCopy\u001b[0m\u001b[1;33m(\u001b[0m\u001b[0mframe\u001b[0m\u001b[1;33m,\u001b[0m \u001b[0mnewimg\u001b[0m\u001b[1;33m)\u001b[0m\u001b[1;33m\u001b[0m\u001b[0m\n\u001b[0;32m    603\u001b[0m         \u001b[1;32mreturn\u001b[0m \u001b[0mImage\u001b[0m\u001b[1;33m(\u001b[0m\u001b[0mnewimg\u001b[0m\u001b[1;33m,\u001b[0m \u001b[0mself\u001b[0m\u001b[1;33m)\u001b[0m\u001b[1;33m\u001b[0m\u001b[0m\n",
      "\u001b[1;31mKeyboardInterrupt\u001b[0m: "
     ]
    }
   ],
   "source": [
    "from SimpleCV import Camera\n",
    "# Initialize the camera\n",
    "cam = Camera()\n",
    "# Loop to continuously get images\n",
    "print cam.getAllProperties()\n",
    "while True:\n",
    "    # Get Image from camera\n",
    "    img = cam.getImage()\n",
    "    # Make image black and white\n",
    "#     img = img.binarize()\n",
    "    # Draw the text \"Hello World\" on image\n",
    "    img.drawText(\"Hello World!\")\n",
    "    # Show the image\n",
    "    img.show()"
   ]
  },
  {
   "cell_type": "code",
   "execution_count": 2,
   "metadata": {
    "collapsed": false
   },
   "outputs": [
    {
     "name": "stdout",
     "output_type": "stream",
     "text": [
      "coord: (536,99), color: (149.0, 114.0, 106.0)\n",
      "coord: (536,99), color: (150.0, 109.0, 114.0)\n",
      "coord: (536,99), color: (150.0, 111.0, 106.0)\n",
      "coord: (536,99), color: (153.0, 109.0, 104.0)\n",
      "coord: (132,195), color: (255.0, 255.0, 255.0)\n",
      "coord: (18,16), color: (255.0, 255.0, 255.0)\n",
      "coord: (560,443), color: (224.0, 255.0, 255.0)\n",
      "coord: (320,374), color: (180.0, 130.0, 149.0)\n",
      "coord: (593,314), color: (134.0, 228.0, 165.0)\n",
      "coord: (271,240), color: (255.0, 143.0, 130.0)\n",
      "coord: (300,289), color: (255.0, 113.0, 89.0)\n",
      "coord: (192,172), color: (32.0, 51.0, 128.0)\n",
      "coord: (194,194), color: (36.0, 46.0, 119.0)\n",
      "coord: (293,275), color: (99.0, 138.0, 161.0)\n",
      "coord: (420,108), color: (119.0, 137.0, 153.0)\n",
      "coord: (321,162), color: (92.0, 105.0, 175.0)\n",
      "coord: (310,199), color: (125.0, 141.0, 167.0)\n",
      "Closing Window\n"
     ]
    }
   ],
   "source": [
    "from SimpleCV import Camera\n",
    "cam = Camera()\n",
    "cam.live()"
   ]
  },
  {
   "cell_type": "markdown",
   "metadata": {},
   "source": [
    "The live() function also has two other very useful properties outside of displaying the\n",
    "video feed. It also lets you easily find both the coordinates and the color of a pixel on\n",
    "the screen. Why is this information useful? Well let’s say you are trying to crop an image\n",
    "down to a particular section. Being able to click on the live feed to find the coordinates\n",
    "for cropping the image is a lot easier than a trial and error method of guessing what the\n",
    "coordinates are, and then tweaking the coordinates based on the results. Or if you want\n",
    "to isolate an object in the image using segmentation, it’s helpful to know what the color\n",
    "is for either the object or the area around the object. We will look at these techniques\n",
    "in greater depth in later chapters, but for now, it is useful to know that you can use the\n",
    "feed from the live() function to find this type of information."
   ]
  },
  {
   "cell_type": "code",
   "execution_count": null,
   "metadata": {
    "collapsed": true
   },
   "outputs": [],
   "source": []
  }
 ],
 "metadata": {
  "kernelspec": {
   "display_name": "Python 2",
   "language": "python",
   "name": "python2"
  },
  "language_info": {
   "codemirror_mode": {
    "name": "ipython",
    "version": 2
   },
   "file_extension": ".py",
   "mimetype": "text/x-python",
   "name": "python",
   "nbconvert_exporter": "python",
   "pygments_lexer": "ipython2",
   "version": "2.7.11"
  }
 },
 "nbformat": 4,
 "nbformat_minor": 0
}
