{
 "cells": [
  {
   "cell_type": "code",
   "execution_count": 10,
   "metadata": {
    "collapsed": false
   },
   "outputs": [
    {
     "name": "stdout",
     "output_type": "stream",
     "text": [
      "\n"
     ]
    }
   ],
   "source": [
    "import numpy.random as random\n",
    "randoms = [random.randint(0,1000) for r in xrange(10000)]\n",
    "# print randoms"
   ]
  },
  {
   "cell_type": "code",
   "execution_count": 11,
   "metadata": {
    "collapsed": true
   },
   "outputs": [],
   "source": [
    "def bubbleSort(the_list):\n",
    "    length = len(the_list) - 1\n",
    "    sorted = False\n",
    "\n",
    "    while not sorted:\n",
    "        sorted = True\n",
    "        for i in range(length):\n",
    "            if the_list[i] > the_list[i+1]:\n",
    "#                 print \"sorting\"\n",
    "                sorted = False\n",
    "                the_list[i], the_list[i+1] = the_list[i+1], the_list[i]"
   ]
  },
  {
   "cell_type": "code",
   "execution_count": 12,
   "metadata": {
    "collapsed": false
   },
   "outputs": [
    {
     "name": "stdout",
     "output_type": "stream",
     "text": [
      "The slowest run took 15941.94 times longer than the fastest. This could mean that an intermediate result is being cached.\n",
      "1 loop, best of 3: 556 µs per loop\n"
     ]
    }
   ],
   "source": [
    "timeit bubbleSort(randoms)"
   ]
  },
  {
   "cell_type": "code",
   "execution_count": 14,
   "metadata": {
    "collapsed": true
   },
   "outputs": [],
   "source": [
    "def qsort(L):\n",
    "    if len(L)<2: return L\n",
    "    pivot_element = random.choice(L)\n",
    "    small = [i for i in L if i< pivot_element]\n",
    "    medium = [i for i in L if i==pivot_element]\n",
    "    large = [i for i in L if i> pivot_element]\n",
    "    return qsort(small) + medium + qsort(large)"
   ]
  },
  {
   "cell_type": "code",
   "execution_count": 16,
   "metadata": {
    "collapsed": false
   },
   "outputs": [
    {
     "name": "stdout",
     "output_type": "stream",
     "text": [
      "10 loops, best of 3: 45.7 ms per loop\n"
     ]
    }
   ],
   "source": [
    "timeit qsort(randoms)"
   ]
  },
  {
   "cell_type": "code",
   "execution_count": 17,
   "metadata": {
    "collapsed": true
   },
   "outputs": [],
   "source": [
    "randoms = randoms = [random.randint(0,1000) for r in xrange(10000)]\n",
    "bubblesort_list = numpy.copy(randoms)\n",
    "quicksort_lits = numpy.copy(randoms)"
   ]
  },
  {
   "cell_type": "code",
   "execution_count": 18,
   "metadata": {
    "collapsed": false
   },
   "outputs": [
    {
     "name": "stdout",
     "output_type": "stream",
     "text": [
      "The slowest run took 15434.36 times longer than the fastest. This could mean that an intermediate result is being cached.\n",
      "1 loop, best of 3: 604 µs per loop\n"
     ]
    }
   ],
   "source": [
    "timeit bubbleSort(randoms)"
   ]
  },
  {
   "cell_type": "code",
   "execution_count": 19,
   "metadata": {
    "collapsed": false
   },
   "outputs": [
    {
     "name": "stdout",
     "output_type": "stream",
     "text": [
      "10 loops, best of 3: 45.7 ms per loop\n"
     ]
    }
   ],
   "source": [
    "timeit qsort(randoms)"
   ]
  },
  {
   "cell_type": "code",
   "execution_count": 27,
   "metadata": {
    "collapsed": false
   },
   "outputs": [
    {
     "name": "stdout",
     "output_type": "stream",
     "text": [
      "100 loops, best of 3: 2.04 ms per loop\n"
     ]
    }
   ],
   "source": [
    "from SimpleCV import Image\n",
    "img = Image(\"simplecv\")\n",
    "%timeit img.findBlobs()"
   ]
  },
  {
   "cell_type": "code",
   "execution_count": null,
   "metadata": {
    "collapsed": true
   },
   "outputs": [],
   "source": []
  }
 ],
 "metadata": {
  "kernelspec": {
   "display_name": "Python 2",
   "language": "python",
   "name": "python2"
  },
  "language_info": {
   "codemirror_mode": {
    "name": "ipython",
    "version": 2
   },
   "file_extension": ".py",
   "mimetype": "text/x-python",
   "name": "python",
   "nbconvert_exporter": "python",
   "pygments_lexer": "ipython2",
   "version": "2.7.11"
  }
 },
 "nbformat": 4,
 "nbformat_minor": 0
}
