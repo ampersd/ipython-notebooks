{
 "cells": [
  {
   "cell_type": "code",
   "execution_count": null,
   "metadata": {
    "collapsed": true
   },
   "outputs": [],
   "source": [
    "import os\n",
    "import glob\n",
    "import time\n",
    "from SimpleCV import *\n",
    "\n",
    "print __doc__\n",
    "\n",
    "#Settings\n",
    "my_images_path = \"/faces/\" #put your image path here if you want to override current directory\n",
    "extension = \"*.png\"\n",
    "\n",
    "\n",
    "#Program\n",
    "if not my_images_path:\n",
    "        path = os.getcwd() #get the current directory\n",
    "else:\n",
    "        path = my_images_path\n",
    "\n",
    "imgs = list() #load up an image list\n",
    "directory = os.path.join(path, extension)\n",
    "files = glob.glob(directory)\n",
    "\n",
    "for file in files:\n",
    "        new_img = Image(file)\n",
    "        new_img.show()\n",
    "        time.sleep(1) #wait for 1 second\n"
   ]
  },
  {
   "cell_type": "code",
   "execution_count": null,
   "metadata": {
    "collapsed": true
   },
   "outputs": [],
   "source": []
  }
 ],
 "metadata": {
  "kernelspec": {
   "display_name": "Python 2",
   "language": "python",
   "name": "python2"
  },
  "language_info": {
   "codemirror_mode": {
    "name": "ipython",
    "version": 2
   },
   "file_extension": ".py",
   "mimetype": "text/x-python",
   "name": "python",
   "nbconvert_exporter": "python",
   "pygments_lexer": "ipython2",
   "version": "2.7.11"
  }
 },
 "nbformat": 4,
 "nbformat_minor": 0
}
