{
 "cells": [
  {
   "cell_type": "code",
   "execution_count": 1,
   "metadata": {
    "collapsed": false
   },
   "outputs": [
    {
     "data": {
      "text/plain": [
       "<SimpleCV.Display Object resolution:((250, 250)), Image Resolution: (250, 250) at memory location: (0x73c5708L)>"
      ]
     },
     "execution_count": 1,
     "metadata": {},
     "output_type": "execute_result"
    }
   ],
   "source": [
    "# ..note: To perform image math the images have to be the same exact size\n",
    "\n",
    "from SimpleCV import *\n",
    "imgA = Image(\"simplecv\")\n",
    "imgA.show()"
   ]
  },
  {
   "cell_type": "code",
   "execution_count": 3,
   "metadata": {
    "collapsed": false
   },
   "outputs": [
    {
     "data": {
      "text/plain": [
       "<SimpleCV.Display Object resolution:((250, 250)), Image Resolution: (250, 250) at memory location: (0x78a2f88L)>"
      ]
     },
     "execution_count": 3,
     "metadata": {},
     "output_type": "execute_result"
    }
   ],
   "source": [
    "added = imgA + imgA\n",
    "added.show()"
   ]
  },
  {
   "cell_type": "code",
   "execution_count": 4,
   "metadata": {
    "collapsed": false
   },
   "outputs": [
    {
     "data": {
      "text/plain": [
       "<SimpleCV.Display Object resolution:((250, 250)), Image Resolution: (250, 250) at memory location: (0x79acd08L)>"
      ]
     },
     "execution_count": 4,
     "metadata": {},
     "output_type": "execute_result"
    }
   ],
   "source": [
    "mult = imgA * 2\n",
    "mult.show()"
   ]
  },
  {
   "cell_type": "code",
   "execution_count": 5,
   "metadata": {
    "collapsed": false
   },
   "outputs": [
    {
     "data": {
      "text/plain": [
       "<SimpleCV.Display Object resolution:((250, 250)), Image Resolution: (250, 250) at memory location: (0x79b5408L)>"
      ]
     },
     "execution_count": 5,
     "metadata": {},
     "output_type": "execute_result"
    }
   ],
   "source": [
    "# completely black image\n",
    "logo = Image(\"logo\")\n",
    "sub = logo - logo\n",
    "sub.show()"
   ]
  },
  {
   "cell_type": "code",
   "execution_count": 7,
   "metadata": {
    "collapsed": false
   },
   "outputs": [
    {
     "data": {
      "text/plain": [
       "<SimpleCV.Display Object resolution:((250, 250)), Image Resolution: (250, 250) at memory location: (0x79b5fc8L)>"
      ]
     },
     "execution_count": 7,
     "metadata": {},
     "output_type": "execute_result"
    }
   ],
   "source": [
    "# It is also possible to perform division on images. This is useful for lowering the contrast. \n",
    "scv = Image(\"simplecv\")\n",
    "div = scv / 10\n",
    "div.show()"
   ]
  },
  {
   "cell_type": "code",
   "execution_count": 3,
   "metadata": {
    "collapsed": false
   },
   "outputs": [
    {
     "data": {
      "text/plain": [
       "<SimpleCV.Display Object resolution:((640, 480)), Image Resolution: (640, 480) at memory location: (0x73dc908L)>"
      ]
     },
     "execution_count": 3,
     "metadata": {},
     "output_type": "execute_result"
    }
   ],
   "source": [
    "# cam = Camera()\n",
    "# while True:\n",
    "#     prev = cam.getImage()\n",
    "#     current = cam.getImage()\n",
    "#     diff = current - prev\n",
    "#     diff.show()\n",
    "from SimpleCV import *\n",
    "prev = Image(\"image-math-person1.png\")\n",
    "current = Image(\"image-math-person2.png\")\n",
    "diff = current - prev\n",
    "diff.show()"
   ]
  },
  {
   "cell_type": "code",
   "execution_count": 4,
   "metadata": {
    "collapsed": false
   },
   "outputs": [
    {
     "name": "stdout",
     "output_type": "stream",
     "text": [
      "307200\n",
      "(640L, 480L, 3L)\n",
      "0.818358289931\n"
     ]
    }
   ],
   "source": [
    "# how image is changes?\n",
    "area = diff.width * diff.height #this is our image area in pixels\n",
    "#307200\n",
    "print area\n",
    "\n",
    "matrix = diff.getNumpy()\n",
    "print matrix.shape\n",
    "\n",
    "flat = matrix.flatten()\n",
    "counter = 0\n",
    "for i in flat:\n",
    "    if flat[i] == 0: #if black\n",
    "        counter += 1\n",
    "\n",
    "percent_change = float(counter) / float(len(flat))\n",
    "print percent_change"
   ]
  },
  {
   "cell_type": "markdown",
   "metadata": {},
   "source": [
    "With this you are able to determine about 0.8 or 80% change in pixels. Although this is not the most efficient way we can now use this change as a threshold value. For instance send an e-mail if 90% of the pixels change, and using a threshold you can minimize the chance of false positives happening."
   ]
  },
  {
   "cell_type": "code",
   "execution_count": null,
   "metadata": {
    "collapsed": false
   },
   "outputs": [
    {
     "name": "stdout",
     "output_type": "stream",
     "text": [
      " Motion Detected  15:15:31.995000\n"
     ]
    }
   ],
   "source": [
    "# motion detection with mean\n",
    "\n",
    "from SimpleCV import *\n",
    "import datetime\n",
    "\n",
    "cam = Camera()\n",
    "threshold = 5.0 # if mean exceeds this amount do something\n",
    "\n",
    "while True:\n",
    "        previous = cam.getImage() #grab a frame\n",
    "        time.sleep(0.5) #wait for half a second\n",
    "        current = cam.getImage() #grab another frame\n",
    "        diff = current - previous\n",
    "        matrix = diff.getNumpy()\n",
    "        mean = matrix.mean()\n",
    "\n",
    "        diff.show()\n",
    "\n",
    "        if mean >= threshold:\n",
    "                print \"Motion Detected \"\n",
    "                current.save(datetime.datetime.now().time().isoformat());\n"
   ]
  },
  {
   "cell_type": "markdown",
   "metadata": {},
   "source": [
    "### Histograms\n",
    "Another extremely useful tool when performing math on images is to use a histogram. A histogram is what is typically used in statistics, and is basically just a plot of the values in a list. These values can be anything really, from a list of the area of features found, to coordinates, etc. But what typically histograms are used for is a list of all the colors from each of the color channels in an image."
   ]
  },
  {
   "cell_type": "code",
   "execution_count": 12,
   "metadata": {
    "collapsed": false
   },
   "outputs": [
    {
     "name": "stdout",
     "output_type": "stream",
     "text": [
      "50\n",
      "[19119L, 103L, 85L, 60L, 175L, 619L, 49L, 66L, 88L, 36L, 80L, 49L, 40L, 54L, 609L, 89L, 54L, 101L, 67L, 55L, 737L, 78L, 68L, 763L, 1033L, 15825L, 352L, 73L, 92L, 609L, 51L, 40L, 57L, 55L, 91L, 589L, 37L, 93L, 62L, 41L, 46L, 56L, 49L, 65L, 653L, 369L, 114L, 67L, 202L, 18535L]\n"
     ]
    },
    {
     "data": {
      "text/plain": [
       "[<matplotlib.lines.Line2D at 0x958b438>]"
      ]
     },
     "execution_count": 12,
     "metadata": {},
     "output_type": "execute_result"
    },
    {
     "data": {
      "image/png": "[encoded data removed]",
      "text/plain": [
       "<matplotlib.figure.Figure at 0x73a2f28>"
      ]
     },
     "metadata": {},
     "output_type": "display_data"
    }
   ],
   "source": [
    "from SimpleCV import *\n",
    "import matplotlib.pyplot as plt\n",
    "img = Image('simplecv')\n",
    "gray = img.toGray()\n",
    "histogram = gray.histogram()\n",
    "print len(histogram)\n",
    "print histogram\n",
    "plt.plot(histogram)"
   ]
  },
  {
   "cell_type": "code",
   "execution_count": 1,
   "metadata": {
    "collapsed": false
   },
   "outputs": [
    {
     "name": "stdout",
     "output_type": "stream",
     "text": [
      "255\n",
      "[18590L, 94L, 43L, 29L, 30L, 333L, 27L, 23L, 16L, 11L, 26L, 15L, 18L, 26L, 11L, 15L, 21L, 9L, 12L, 5L, 13L, 16L, 120L, 12L, 17L, 10L, 8L, 18L, 5L, 581L, 7L, 10L, 3L, 6L, 14L, 16L, 6L, 9L, 9L, 31L, 11L, 46L, 7L, 13L, 6L, 16L, 7L, 5L, 8L, 7L, 9L, 11L, 9L, 13L, 28L, 9L, 10L, 15L, 5L, 7L, 15L, 7L, 10L, 7L, 8L, 11L, 4L, 15L, 12L, 6L, 16L, 5L, 8L, 6L, 11L, 10L, 574L, 20L, 14L, 10L, 11L, 34L, 17L, 17L, 7L, 6L, 7L, 22L, 42L, 17L, 12L, 8L, 12L, 18L, 14L, 11L, 12L, 12L, 11L, 6L, 15L, 11L, 8L, 14L, 70L, 604L, 19L, 22L, 14L, 28L, 12L, 13L, 11L, 19L, 18L, 8L, 14L, 9L, 21L, 21L, 339L, 29L, 353L, 90L, 56L, 62L, 117L, 708L, 15514L, 153L, 65L, 48L, 45L, 126L, 47L, 129L, 18L, 32L, 22L, 13L, 11L, 12L, 15L, 19L, 17L, 15L, 20L, 21L, 19L, 55L, 521L, 6L, 8L, 13L, 9L, 2L, 8L, 14L, 5L, 6L, 11L, 9L, 6L, 8L, 8L, 24L, 14L, 5L, 6L, 10L, 9L, 8L, 22L, 6L, 13L, 10L, 27L, 12L, 29L, 539L, 10L, 25L, 11L, 4L, 9L, 7L, 4L, 5L, 12L, 11L, 49L, 9L, 7L, 17L, 8L, 30L, 7L, 6L, 11L, 7L, 10L, 7L, 4L, 13L, 6L, 4L, 8L, 15L, 8L, 5L, 7L, 16L, 6L, 12L, 15L, 11L, 13L, 13L, 7L, 5L, 16L, 13L, 9L, 15L, 12L, 51L, 540L, 11L, 12L, 39L, 12L, 11L, 8L, 325L, 13L, 16L, 12L, 49L, 12L, 25L, 14L, 16L, 16L, 11L, 10L, 16L, 14L, 22L, 27L, 123L, 31L, 40L, 30L, 39L, 18395L]\n"
     ]
    }
   ],
   "source": [
    "from SimpleCV import *\n",
    "img = Image('simplecv')\n",
    "gray = img.toGray()\n",
    "histogram = gray.histogram(255)\n",
    "print len(histogram)\n",
    "print histogram"
   ]
  },
  {
   "cell_type": "code",
   "execution_count": 10,
   "metadata": {
    "collapsed": false
   },
   "outputs": [
    {
     "data": {
      "text/plain": [
       "[<matplotlib.lines.Line2D at 0x86d23c8>]"
      ]
     },
     "execution_count": 10,
     "metadata": {},
     "output_type": "execute_result"
    },
    {
     "data": {
      "image/png": "[encoded data removed]",
      "text/plain": [
       "<matplotlib.figure.Figure at 0x8024f60>"
      ]
     },
     "metadata": {},
     "output_type": "display_data"
    }
   ],
   "source": [
    "%matplotlib inline\n",
    "import matplotlib.pyplot as plt\n",
    "# matplotlib.\n",
    "plt.plot(histogram)"
   ]
  },
  {
   "cell_type": "code",
   "execution_count": 11,
   "metadata": {
    "collapsed": false
   },
   "outputs": [
    {
     "data": {
      "text/plain": [
       "[<matplotlib.lines.Line2D at 0x8908cc0>]"
      ]
     },
     "execution_count": 11,
     "metadata": {},
     "output_type": "execute_result"
    },
    {
     "data": {
      "image/png": "[encoded data removed]",
      "text/plain": [
       "<matplotlib.figure.Figure at 0x85fc518>"
      ]
     },
     "metadata": {},
     "output_type": "display_data"
    }
   ],
   "source": [
    "from SimpleCV import *\n",
    "import matplotlib.pyplot as plt\n",
    "\n",
    "img = Image('simplecv')\n",
    "(red, green, blue) = img.splitChannels(False)\n",
    "red_histogram = red.histogram(255)\n",
    "green_histogram = green.histogram(255)\n",
    "blue_histogram = blue.histogram(255)\n",
    "plt.plot(red_histogram)\n",
    "plt.plot(green_histogram)\n",
    "plt.plot(blue_histogram)"
   ]
  },
  {
   "cell_type": "markdown",
   "metadata": {},
   "source": [
    "### Color Space"
   ]
  },
  {
   "cell_type": "code",
   "execution_count": 2,
   "metadata": {
    "collapsed": false
   },
   "outputs": [
    {
     "data": {
      "text/plain": [
       "[<matplotlib.lines.Line2D at 0x8857eb8>]"
      ]
     },
     "execution_count": 2,
     "metadata": {},
     "output_type": "execute_result"
    },
    {
     "data": {
      "image/png": "[encoded data removed]",
      "text/plain": [
       "<matplotlib.figure.Figure at 0x883ea58>"
      ]
     },
     "metadata": {},
     "output_type": "display_data"
    }
   ],
   "source": [
    "%matplotlib inline\n",
    "from SimpleCV import *\n",
    "import matplotlib.pyplot as plt\n",
    "img = Image('lenna')\n",
    "# img.show()\n",
    "# print img.getNumpy()\n",
    "hsv = img.toHSV()\n",
    "# hsv.show()\n",
    "# print hsv.getNumpy()\n",
    "histogramRGB = img.histogram(255)\n",
    "histogram = hsv.histogram(255)\n",
    "# print histogramRGB\n",
    "# print histogram\n",
    "plt.plot(histogram)\n",
    "plt.plot(histogramRGB)\n",
    "\n",
    "# почему то всё одинаковое, хотя такого не должно быть\n",
    "# какой-то баг преобразования?"
   ]
  },
  {
   "cell_type": "markdown",
   "metadata": {},
   "source": [
    "Now many of these different color spaces are used for many various things. In the case of HSV the first value, hue, can be adjusted to basically adjust the color level, so for instance if you wanted to shift the blue to a light blue then you can just adjust the hue channel. If you were using RGB color space, trying to adjust the “lightness” of the blue would require you to adjust 3 channel values.\n",
    "  \n",
    "For the most part you won’t have to muddle around with other color spaces. All the image algorithms can work the same in the color spaces, but color spaces make it easier to optimize for particular tasks. For instance maybe we wanted to check how blue something was. Using HSV we could easily use the saturation value as a threshold, so if it was above 80 but below 100. To do this using RGB would be much more complex.\n",
    "\n"
   ]
  },
  {
   "cell_type": "markdown",
   "metadata": {},
   "source": [
    "### Using Hue Peaks\n",
    "The hue peaks function is used to help figure out what the dominant color in an image is. Using a histogram we can plot the values and see the actual peaks. What the huePeaks function does it make it convient to find this color. In this example we will use the lenna image to find the color (or hue) peaks"
   ]
  },
  {
   "cell_type": "code",
   "execution_count": 3,
   "metadata": {
    "collapsed": false
   },
   "outputs": [
    {
     "name": "stdout",
     "output_type": "stream",
     "text": [
      "[13682 14520 12393 11312 10730  9966  9128  8128  7309  5738  4115  2624\n",
      "  1670  1252  1358  2110  2978  2430  1083   230    62    30    18    14\n",
      "     5     1     2     0     1     0     0     0     0     0     0     0\n",
      "     0     0     0     0     0     0     0     0     0     0     0     0\n",
      "     0     0     0     0     0     0     0     0     0     0     0     0\n",
      "     0     0     0     0     0     0     0     0     0     0     0     0\n",
      "     0     0     0     0     0     0     0     0     0     0     0     0\n",
      "     0     0     0     0     0     0     0     0     0     0     0     0\n",
      "     0     0     0     0     0     0     0     0     0     0     0     0\n",
      "     0     0     1     0     1     0     0     0     1     2     1     2\n",
      "     3     5     7     5     7    14    20    17    11    22    29    37\n",
      "    45    67    66    72    95   127   133   157   189   223   263   310\n",
      "   336   459   471   489   571   648   595   761   994  1087  1318  1590\n",
      "  1897  2357  3120  3674  4432  4480  4876  4798  4699  4292  3575  3055\n",
      "  2653  2510  2857  3287  4051  4720  5857  7496  9962 12562 26794]\n"
     ]
    }
   ],
   "source": [
    "from SimpleCV import *\n",
    "lenna = Image('lenna')\n",
    "histogram = lenna.hueHistogram()\n",
    "print histogram"
   ]
  },
  {
   "cell_type": "code",
   "execution_count": 4,
   "metadata": {
    "collapsed": false
   },
   "outputs": [
    {
     "name": "stdout",
     "output_type": "stream",
     "text": [
      "[(162.0, 0.0186004638671875)]\n"
     ]
    }
   ],
   "source": [
    "peaks = lenna.huePeaks()\n",
    "print peaks"
   ]
  },
  {
   "cell_type": "code",
   "execution_count": 5,
   "metadata": {
    "collapsed": false
   },
   "outputs": [
    {
     "data": {
      "text/plain": [
       "[<matplotlib.lines.Line2D at 0x9b09358>]"
      ]
     },
     "execution_count": 5,
     "metadata": {},
     "output_type": "execute_result"
    },
    {
     "data": {
      "image/png": "[encoded data removed]",
      "text/plain": [
       "<matplotlib.figure.Figure at 0x88a57b8>"
      ]
     },
     "metadata": {},
     "output_type": "display_data"
    }
   ],
   "source": [
    "%matplotlib inline\n",
    "import matplotlib.pyplot as plt\n",
    "plt.plot(histogram)"
   ]
  },
  {
   "cell_type": "markdown",
   "metadata": {},
   "source": [
    "As you can see, the huePeaks() function list the value of 162, and looking at the plot you can see there is a peak there. Where this type of function maybe quite useful is trying to bring out the highest value color in the picture. To do this just use:"
   ]
  },
  {
   "cell_type": "code",
   "execution_count": 6,
   "metadata": {
    "collapsed": false
   },
   "outputs": [
    {
     "name": "stdout",
     "output_type": "stream",
     "text": [
      "[(162.0, 0.0186004638671875)]\n",
      "162.0\n"
     ]
    },
    {
     "data": {
      "text/plain": [
       "<SimpleCV.Display Object resolution:((512, 512)), Image Resolution: (512, 512) at memory location: (0x407b4c8L)>"
      ]
     },
     "execution_count": 6,
     "metadata": {},
     "output_type": "execute_result"
    }
   ],
   "source": [
    "from SimpleCV import *\n",
    "lenna = Image('lenna')\n",
    "peaks = lenna.huePeaks()\n",
    "print peaks\n",
    "\n",
    "peak_one = peaks[0][0]\n",
    "print peak_one\n",
    "\n",
    "hue = lenna.hueDistance(peak_one)\n",
    "hue.show()"
   ]
  },
  {
   "cell_type": "markdown",
   "metadata": {},
   "source": [
    "### Creating a Motion Blur Effect"
   ]
  },
  {
   "cell_type": "code",
   "execution_count": null,
   "metadata": {
    "collapsed": true
   },
   "outputs": [],
   "source": [
    "from operator import add\n",
    "from SimpleCV import *\n",
    "\n",
    "cam = Camera()\n",
    "\n",
    "frames_to_blur = 4\n",
    "frames = ImageSet()\n",
    "\n",
    "while True:\n",
    "        frames.append(cam.getImage())\n",
    "\n",
    "        if len(frames) > frames_to_blur:\n",
    "                frames.pop(0)  #remove the earliest frame if we're at max\n",
    "        \n",
    "        #reduce - standard function of python library\n",
    "        pic = reduce(add, [i / float(len(frames)) for i in frames])\n",
    "        #add the frames in the array, weighted by 1 / number of frames\n",
    "\n",
    "        pic.show()"
   ]
  },
  {
   "cell_type": "markdown",
   "metadata": {},
   "source": [
    "### Simulating Long Exposure"
   ]
  },
  {
   "cell_type": "code",
   "execution_count": null,
   "metadata": {
    "collapsed": false
   },
   "outputs": [
    {
     "name": "stdout",
     "output_type": "stream",
     "text": [
      "D:\\repositoriesGithub\\ipython-notebooks/exposure/\n"
     ]
    }
   ],
   "source": [
    "from SimpleCV import *\n",
    "import os\n",
    "\n",
    "image_directory = os.getcwd() + \"/exposure/\"\n",
    "print image_directory\n",
    "frames = ImageSet() #create an empty image set\n",
    "frames.load(image_directory) #load the directory of images\n",
    "img = Image(frames[0].size()) #create an initial empty image\n",
    "num_of_frames = len(frames) #count the number of images\n",
    "\n",
    "for frame in frames:\n",
    "        img = img + (frame / num_of_frames) # merge the images together\n",
    "\n",
    "img.show()\n",
    "time.sleep(1000)\n"
   ]
  },
  {
   "cell_type": "markdown",
   "metadata": {},
   "source": [
    "### Chroma Key\n",
    "We use these pictures to create a mask. And no, pardon the pun, but not the mask the person is wearing in the picture. A mask has a similiar concept in image processing and in theory is similiar, you would wear a mask to hide your face, well a mask in image math is used to hide that part of the image"
   ]
  },
  {
   "cell_type": "code",
   "execution_count": 1,
   "metadata": {
    "collapsed": false
   },
   "outputs": [
    {
     "name": "stdout",
     "output_type": "stream",
     "text": [
      "Showing Greenscreen image\n",
      "Showing background image\n",
      "Showing Masked Image\n",
      "Showing final image\n"
     ]
    }
   ],
   "source": [
    "from SimpleCV import *\n",
    "\n",
    "sleep_time = 2 #the amount of time to show each image for\n",
    "\n",
    "#Load and show the greenscreen image\n",
    "print \"Showing Greenscreen image\"\n",
    "greenscreen = Image(\"./chromaKey/green-screen-person.png\")\n",
    "greenscreen.show()\n",
    "time.sleep(sleep_time)\n",
    "\n",
    "\n",
    "#load and show the background image\n",
    "print \"Showing background image\"\n",
    "background = Image(\"./chromaKey/green-screen-wallst.png\")\n",
    "background.show()\n",
    "time.sleep(sleep_time)\n",
    "\n",
    "#Create the mask to apply and show the mask\n",
    "print \"Showing Masked Image\"\n",
    "mask = greenscreen.hueDistance(color=Color.GREEN).binarize()\n",
    "mask.show()\n",
    "time.sleep(sleep_time)\n",
    "\n",
    "#Combine the mask and other images to get the final result\n",
    "print \"Showing final image\"\n",
    "result = (greenscreen - mask) + (background - mask.invert())\n",
    "result.show()\n",
    "time.sleep(sleep_time)"
   ]
  },
  {
   "cell_type": "markdown",
   "metadata": {},
   "source": [
    "Now performing the mask is similiar to what we did in the previous example using hue peaks. We used the hue distance to create the image and tell it to use green as the color, then we use binarize to either make it black or white as we need that for the image math"
   ]
  },
  {
   "cell_type": "code",
   "execution_count": null,
   "metadata": {
    "collapsed": true
   },
   "outputs": [],
   "source": []
  }
 ],
 "metadata": {
  "kernelspec": {
   "display_name": "Python 2",
   "language": "python",
   "name": "python2"
  },
  "language_info": {
   "codemirror_mode": {
    "name": "ipython",
    "version": 2
   },
   "file_extension": ".py",
   "mimetype": "text/x-python",
   "name": "python",
   "nbconvert_exporter": "python",
   "pygments_lexer": "ipython2",
   "version": "2.7.11"
  }
 },
 "nbformat": 4,
 "nbformat_minor": 0
}
