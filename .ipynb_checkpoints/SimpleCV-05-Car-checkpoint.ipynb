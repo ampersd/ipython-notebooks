{
 "cells": [
  {
   "cell_type": "code",
   "execution_count": 19,
   "metadata": {
    "collapsed": true
   },
   "outputs": [],
   "source": [
    "from SimpleCV import *\n",
    "car_in_lot = Image(\"parking-car.png\")\n",
    "car_not_in_lot = Image(\"parking-no-car.png\")"
   ]
  },
  {
   "cell_type": "code",
   "execution_count": 20,
   "metadata": {
    "collapsed": false
   },
   "outputs": [
    {
     "data": {
      "text/plain": [
       "<SimpleCV.Display Object resolution:((200, 200)), Image Resolution: (200, 200) at memory location: (0x724b9c8L)>"
      ]
     },
     "execution_count": 20,
     "metadata": {},
     "output_type": "execute_result"
    }
   ],
   "source": [
    "car = car_in_lot.crop(470,200,200,200)\n",
    "car.show()"
   ]
  },
  {
   "cell_type": "code",
   "execution_count": 21,
   "metadata": {
    "collapsed": false
   },
   "outputs": [
    {
     "data": {
      "text/plain": [
       "<SimpleCV.Display Object resolution:((200, 200)), Image Resolution: (200, 200) at memory location: (0x724b348L)>"
      ]
     },
     "execution_count": 21,
     "metadata": {},
     "output_type": "execute_result"
    }
   ],
   "source": [
    "# try to extract yellow\n",
    "yellow_car = car.colorDistance(Color.YELLOW)\n",
    "yellow_car.show()"
   ]
  },
  {
   "cell_type": "code",
   "execution_count": 22,
   "metadata": {
    "collapsed": false
   },
   "outputs": [
    {
     "data": {
      "text/plain": [
       "<SimpleCV.Display Object resolution:((200, 200)), Image Resolution: (200, 200) at memory location: (0x724eac8L)>"
      ]
     },
     "execution_count": 22,
     "metadata": {},
     "output_type": "execute_result"
    }
   ],
   "source": [
    "only_car = car - yellow_car\n",
    "only_car.show()"
   ]
  },
  {
   "cell_type": "code",
   "execution_count": 23,
   "metadata": {
    "collapsed": false
   },
   "outputs": [
    {
     "data": {
      "text/plain": [
       "(4.4940750000000005, 18.880775, 25.604575)"
      ]
     },
     "execution_count": 23,
     "metadata": {},
     "output_type": "execute_result"
    }
   ],
   "source": [
    "only_car.meanColor()"
   ]
  },
  {
   "cell_type": "markdown",
   "metadata": {},
   "source": [
    "Now that we have those values, let’s do the same for the parking lot without any cars. Then we will look at the differences in their mean colors as a way to determine if the car is parked in the lot or not"
   ]
  },
  {
   "cell_type": "code",
   "execution_count": 7,
   "metadata": {
    "collapsed": false
   },
   "outputs": [
    {
     "data": {
      "text/plain": [
       "<SimpleCV.Display Object resolution:((200, 200)), Image Resolution: (200, 200) at memory location: (0x6fd77c8L)>"
      ]
     },
     "execution_count": 7,
     "metadata": {},
     "output_type": "execute_result"
    }
   ],
   "source": [
    "car_not_in_lot = Image(\"parking-no-car.png\")\n",
    "no_car = car_not_in_lot.crop(470,200,200,200)\n",
    "no_car.show()"
   ]
  },
  {
   "cell_type": "code",
   "execution_count": 8,
   "metadata": {
    "collapsed": false
   },
   "outputs": [
    {
     "data": {
      "text/plain": [
       "<SimpleCV.Display Object resolution:((200, 200)), Image Resolution: (200, 200) at memory location: (0x70dc348L)>"
      ]
     },
     "execution_count": 8,
     "metadata": {},
     "output_type": "execute_result"
    }
   ],
   "source": [
    "yellow_car = no_car.colorDistance(Color.YELLOW)\n",
    "yellow_car.show()"
   ]
  },
  {
   "cell_type": "code",
   "execution_count": 9,
   "metadata": {
    "collapsed": false
   },
   "outputs": [
    {
     "data": {
      "text/plain": [
       "(1.889, 7.094425, 12.751125)"
      ]
     },
     "execution_count": 9,
     "metadata": {},
     "output_type": "execute_result"
    }
   ],
   "source": [
    "only_car = car - yellow_car\n",
    "only_car.meanColor()"
   ]
  },
  {
   "cell_type": "code",
   "execution_count": 24,
   "metadata": {
    "collapsed": false
   },
   "outputs": [
    {
     "name": "stdout",
     "output_type": "stream",
     "text": [
      "25.604575 18.880775 4.494075\n",
      "Car is in the lot!\n"
     ]
    }
   ],
   "source": [
    "(B, G, R) = only_car.meanColor()\n",
    "print R, G, B\n",
    "if R > 15 and B > 3:\n",
    "        print \"Car is in the lot!\""
   ]
  }
 ],
 "metadata": {
  "kernelspec": {
   "display_name": "Python 2",
   "language": "python",
   "name": "python2"
  },
  "language_info": {
   "codemirror_mode": {
    "name": "ipython",
    "version": 2
   },
   "file_extension": ".py",
   "mimetype": "text/x-python",
   "name": "python",
   "nbconvert_exporter": "python",
   "pygments_lexer": "ipython2",
   "version": "2.7.11"
  }
 },
 "nbformat": 4,
 "nbformat_minor": 0
}
