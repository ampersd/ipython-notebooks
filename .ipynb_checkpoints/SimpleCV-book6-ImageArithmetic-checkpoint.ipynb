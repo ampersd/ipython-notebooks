{
 "cells": [
  {
   "cell_type": "code",
   "execution_count": 1,
   "metadata": {
    "collapsed": false
   },
   "outputs": [
    {
     "data": {
      "text/plain": [
       "<SimpleCV.Display Object resolution:((800, 600)), Image Resolution: (800, 600) at memory location: (0x7746fc8L)>"
      ]
     },
     "execution_count": 1,
     "metadata": {},
     "output_type": "execute_result"
    }
   ],
   "source": [
    "from SimpleCV import Image\n",
    "import time\n",
    "img = Image('messi5.jpg')\n",
    "img.show()\n",
    "time.sleep(1)\n",
    "\n",
    "mult = img * 2\n",
    "mult.show()\n",
    "time.sleep(1)\n",
    "\n",
    "div = mult / 2\n",
    "div.show()"
   ]
  },
  {
   "cell_type": "code",
   "execution_count": null,
   "metadata": {
    "collapsed": false
   },
   "outputs": [
    {
     "name": "stdout",
     "output_type": "stream",
     "text": [
      "Motion Detected  mean =  9.61972005208\n",
      "Motion Detected  mean =  50.5305588108\n",
      "Motion Detected  mean =  27.6548242188\n",
      "Motion Detected  mean =  7.45601453993\n",
      "Motion Detected  mean =  7.5854296875\n",
      "Motion Detected  mean =  7.84367404514\n",
      "Motion Detected  mean =  5.5338140191\n"
     ]
    }
   ],
   "source": [
    "from SimpleCV import Camera, Display\n",
    "import time\n",
    "# if mean color exceeds this amount, do something\n",
    "threshold = 5.0\n",
    "cam = Camera()\n",
    "previous = cam.getImage()\n",
    "disp = Display(previous.size())\n",
    "while not disp.isDone():\n",
    "    # Grab another frame and compare with previous\n",
    "    current = cam.getImage()\n",
    "    diff = current - previous\n",
    "    # Convert to NumPy matrix and compute mean color\n",
    "    matrix = diff.getNumpy()\n",
    "    mean = matrix.mean()\n",
    "    # Show on screen\n",
    "    diff.save(disp)\n",
    "    # Check if changed\n",
    "    if mean >= threshold:\n",
    "        print \"Motion Detected \", \"mean = \", mean \n",
    "        #wait for a second\n",
    "        time.sleep(1)\n",
    "        previous = current"
   ]
  },
  {
   "cell_type": "code",
   "execution_count": null,
   "metadata": {
    "collapsed": true
   },
   "outputs": [],
   "source": []
  }
 ],
 "metadata": {
  "kernelspec": {
   "display_name": "Python 2",
   "language": "python",
   "name": "python2"
  },
  "language_info": {
   "codemirror_mode": {
    "name": "ipython",
    "version": 2
   },
   "file_extension": ".py",
   "mimetype": "text/x-python",
   "name": "python",
   "nbconvert_exporter": "python",
   "pygments_lexer": "ipython2",
   "version": "2.7.11"
  }
 },
 "nbformat": 4,
 "nbformat_minor": 0
}
